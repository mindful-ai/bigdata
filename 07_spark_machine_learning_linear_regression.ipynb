{
 "cells": [
  {
   "cell_type": "code",
   "execution_count": 1,
   "metadata": {
    "scrolled": true
   },
   "outputs": [],
   "source": [
    "import findspark\n",
    "findspark.init('/usr/local/spark')\n",
    "import pyspark"
   ]
  },
  {
   "cell_type": "code",
   "execution_count": 2,
   "metadata": {
    "scrolled": true
   },
   "outputs": [],
   "source": [
    "from pyspark.sql import SparkSession"
   ]
  },
  {
   "cell_type": "code",
   "execution_count": 3,
   "metadata": {
    "scrolled": true
   },
   "outputs": [],
   "source": [
    "spark = SparkSession.builder.appName(\"Python Linear Regression example\").getOrCreate()"
   ]
  },
  {
   "cell_type": "code",
   "execution_count": 4,
   "metadata": {
    "scrolled": true
   },
   "outputs": [],
   "source": [
    "from pyspark.ml.regression import LinearRegression\n",
    "from pyspark.ml.feature import VectorAssembler\n",
    "from pyspark.ml.feature import StandardScaler\n",
    "from pyspark.ml import Pipeline\n",
    "from pyspark.sql.functions import *"
   ]
  },
  {
   "cell_type": "code",
   "execution_count": 5,
   "metadata": {
    "scrolled": true
   },
   "outputs": [
    {
     "name": "stdout",
     "output_type": "stream",
     "text": [
      "root\n",
      " |-- temperature: double (nullable = true)\n",
      " |-- exhaust_vacuum: double (nullable = true)\n",
      " |-- ambient_pressure: double (nullable = true)\n",
      " |-- relative_humidity: double (nullable = true)\n",
      " |-- energy_output: double (nullable = true)\n",
      "\n"
     ]
    }
   ],
   "source": [
    "data = spark.read.load(\"linregdata1.csv\", format=\"csv\", sep=\",\", inferSchema=\"true\", header=\"true\")\n",
    "data.printSchema()"
   ]
  },
  {
   "cell_type": "code",
   "execution_count": 6,
   "metadata": {
    "scrolled": true
   },
   "outputs": [
    {
     "data": {
      "text/plain": [
       "DataFrame[summary: string, temperature: string, exhaust_vacuum: string, ambient_pressure: string, relative_humidity: string, energy_output: string]"
      ]
     },
     "execution_count": 6,
     "metadata": {},
     "output_type": "execute_result"
    }
   ],
   "source": [
    "data.describe()"
   ]
  },
  {
   "cell_type": "code",
   "execution_count": 7,
   "metadata": {
    "scrolled": true
   },
   "outputs": [],
   "source": [
    "features = [\"temperature\", \"exhaust_vacuum\", \"ambient_pressure\", \"relative_humidity\"]"
   ]
  },
  {
   "cell_type": "code",
   "execution_count": 8,
   "metadata": {
    "scrolled": false
   },
   "outputs": [
    {
     "name": "stdout",
     "output_type": "stream",
     "text": [
      "root\n",
      " |-- label: double (nullable = true)\n",
      " |-- temperature: double (nullable = true)\n",
      " |-- exhaust_vacuum: double (nullable = true)\n",
      " |-- ambient_pressure: double (nullable = true)\n",
      " |-- relative_humidity: double (nullable = true)\n",
      "\n"
     ]
    }
   ],
   "source": [
    "lr_data = data.select(col(\"energy_output\").alias(\"label\"), *features)\n",
    "lr_data.printSchema()"
   ]
  },
  {
   "cell_type": "code",
   "execution_count": 9,
   "metadata": {
    "scrolled": true
   },
   "outputs": [
    {
     "name": "stdout",
     "output_type": "stream",
     "text": [
      "+------+-----------+--------------+----------------+-----------------+\n",
      "| label|temperature|exhaust_vacuum|ambient_pressure|relative_humidity|\n",
      "+------+-----------+--------------+----------------+-----------------+\n",
      "|480.48|       8.34|         40.77|         1010.84|            90.01|\n",
      "|445.75|      23.64|         58.49|          1011.4|             74.2|\n",
      "|438.76|      29.74|          56.9|         1007.15|            41.91|\n",
      "|453.09|      19.07|         49.69|         1007.22|            76.79|\n",
      "|464.43|       11.8|         40.66|         1017.13|             97.2|\n",
      "|470.96|      13.97|         39.16|         1016.05|             84.6|\n",
      "|442.35|       22.1|         71.29|          1008.2|            75.38|\n",
      "| 464.0|      14.47|         41.76|         1021.98|            78.41|\n",
      "|428.77|      31.25|         69.51|         1010.25|            36.83|\n",
      "|484.31|       6.77|         38.18|          1017.8|            81.13|\n",
      "|435.29|      28.28|         68.67|         1006.36|             69.9|\n",
      "|451.41|      22.99|         46.93|         1014.15|            49.42|\n",
      "|426.25|       29.3|         70.04|         1010.95|            61.23|\n",
      "|480.66|       8.14|         37.49|         1009.04|            80.33|\n",
      "|460.17|      16.92|          44.6|         1017.34|            58.75|\n",
      "|453.13|      22.72|         64.15|         1021.14|            60.34|\n",
      "|461.71|      18.14|         43.56|         1012.83|             47.1|\n",
      "|471.08|      11.49|         44.63|         1020.44|            86.04|\n",
      "|473.74|       9.94|         40.46|          1018.9|            68.51|\n",
      "|448.56|      23.54|          41.1|         1002.05|            38.05|\n",
      "+------+-----------+--------------+----------------+-----------------+\n",
      "only showing top 20 rows\n",
      "\n"
     ]
    }
   ],
   "source": [
    "lr_data.show()"
   ]
  },
  {
   "cell_type": "markdown",
   "metadata": {},
   "source": [
    "VectorAssembler is a transformer that combines a given list of columns into a single vector column."
   ]
  },
  {
   "cell_type": "code",
   "execution_count": 10,
   "metadata": {
    "scrolled": true
   },
   "outputs": [],
   "source": [
    "vectorAssembler = VectorAssembler(inputCols=features, outputCol=\"unscaled_features\")"
   ]
  },
  {
   "cell_type": "code",
   "execution_count": 11,
   "metadata": {
    "scrolled": true
   },
   "outputs": [],
   "source": [
    "va_data = vectorAssembler.transform(lr_data)"
   ]
  },
  {
   "cell_type": "code",
   "execution_count": 12,
   "metadata": {
    "scrolled": true
   },
   "outputs": [
    {
     "name": "stdout",
     "output_type": "stream",
     "text": [
      "+------+-----------+--------------+----------------+-----------------+---------------------------+\n",
      "|label |temperature|exhaust_vacuum|ambient_pressure|relative_humidity|unscaled_features          |\n",
      "+------+-----------+--------------+----------------+-----------------+---------------------------+\n",
      "|480.48|8.34       |40.77         |1010.84         |90.01            |[8.34,40.77,1010.84,90.01] |\n",
      "|445.75|23.64      |58.49         |1011.4          |74.2             |[23.64,58.49,1011.4,74.2]  |\n",
      "|438.76|29.74      |56.9          |1007.15         |41.91            |[29.74,56.9,1007.15,41.91] |\n",
      "|453.09|19.07      |49.69         |1007.22         |76.79            |[19.07,49.69,1007.22,76.79]|\n",
      "|464.43|11.8       |40.66         |1017.13         |97.2             |[11.8,40.66,1017.13,97.2]  |\n",
      "|470.96|13.97      |39.16         |1016.05         |84.6             |[13.97,39.16,1016.05,84.6] |\n",
      "|442.35|22.1       |71.29         |1008.2          |75.38            |[22.1,71.29,1008.2,75.38]  |\n",
      "|464.0 |14.47      |41.76         |1021.98         |78.41            |[14.47,41.76,1021.98,78.41]|\n",
      "|428.77|31.25      |69.51         |1010.25         |36.83            |[31.25,69.51,1010.25,36.83]|\n",
      "|484.31|6.77       |38.18         |1017.8          |81.13            |[6.77,38.18,1017.8,81.13]  |\n",
      "|435.29|28.28      |68.67         |1006.36         |69.9             |[28.28,68.67,1006.36,69.9] |\n",
      "|451.41|22.99      |46.93         |1014.15         |49.42            |[22.99,46.93,1014.15,49.42]|\n",
      "|426.25|29.3       |70.04         |1010.95         |61.23            |[29.3,70.04,1010.95,61.23] |\n",
      "|480.66|8.14       |37.49         |1009.04         |80.33            |[8.14,37.49,1009.04,80.33] |\n",
      "|460.17|16.92      |44.6          |1017.34         |58.75            |[16.92,44.6,1017.34,58.75] |\n",
      "|453.13|22.72      |64.15         |1021.14         |60.34            |[22.72,64.15,1021.14,60.34]|\n",
      "|461.71|18.14      |43.56         |1012.83         |47.1             |[18.14,43.56,1012.83,47.1] |\n",
      "|471.08|11.49      |44.63         |1020.44         |86.04            |[11.49,44.63,1020.44,86.04]|\n",
      "|473.74|9.94       |40.46         |1018.9          |68.51            |[9.94,40.46,1018.9,68.51]  |\n",
      "|448.56|23.54      |41.1          |1002.05         |38.05            |[23.54,41.1,1002.05,38.05] |\n",
      "+------+-----------+--------------+----------------+-----------------+---------------------------+\n",
      "only showing top 20 rows\n",
      "\n"
     ]
    }
   ],
   "source": [
    "va_data.show(truncate=False)"
   ]
  },
  {
   "cell_type": "markdown",
   "metadata": {},
   "source": [
    "StandardScaler transforms a dataset of Vector rows, normalizing each feature to have unit standard deviation or zero mean.\n",
    "Uses 'withStd' by default i.e. scales the data to unit standard deviation."
   ]
  },
  {
   "cell_type": "code",
   "execution_count": 13,
   "metadata": {
    "scrolled": true
   },
   "outputs": [],
   "source": [
    "standardScaler = StandardScaler(inputCol=\"unscaled_features\", outputCol=\"features\")"
   ]
  },
  {
   "cell_type": "code",
   "execution_count": 14,
   "metadata": {
    "scrolled": true
   },
   "outputs": [],
   "source": [
    "ss_model = standardScaler.fit(va_data)"
   ]
  },
  {
   "cell_type": "code",
   "execution_count": 15,
   "metadata": {
    "scrolled": true
   },
   "outputs": [],
   "source": [
    "ss_data = ss_model.transform(va_data)"
   ]
  },
  {
   "cell_type": "code",
   "execution_count": 16,
   "metadata": {
    "scrolled": true
   },
   "outputs": [
    {
     "name": "stdout",
     "output_type": "stream",
     "text": [
      "+------+-----------+--------------+----------------+-----------------+---------------------------+-----------------------------------------------------------------------------+\n",
      "|label |temperature|exhaust_vacuum|ambient_pressure|relative_humidity|unscaled_features          |features                                                                     |\n",
      "+------+-----------+--------------+----------------+-----------------+---------------------------+-----------------------------------------------------------------------------+\n",
      "|480.48|8.34       |40.77         |1010.84         |90.01            |[8.34,40.77,1010.84,90.01] |[1.1190915744403476,3.208242310929751,170.20993692880273,6.164955008688884]  |\n",
      "|445.75|23.64      |58.49         |1011.4          |74.2             |[23.64,58.49,1011.4,74.2]  |[3.1721012973345104,4.602651281978933,170.30423233131958,5.082098229582438]  |\n",
      "|438.76|29.74      |56.9          |1007.15         |41.91            |[29.74,56.9,1007.15,41.91] |[3.990621513651791,4.477532192590209,169.58859758007566,2.870495105145552]   |\n",
      "|453.09|19.07      |49.69         |1007.22         |76.79            |[19.07,49.69,1007.22,76.79]|[2.5588820533066463,3.9101682715256145,169.60038450539028,5.259492224388617] |\n",
      "|464.43|11.8       |40.66         |1017.13         |97.2             |[11.8,40.66,1017.13,97.2]  |[1.583366975826871,3.199586273299084,171.26907636064374,6.65741169697322]    |\n",
      "|470.96|13.97      |39.16         |1016.05         |84.6             |[13.97,39.16,1016.05,84.6] |[1.874545479008592,3.0815493965172682,171.0872209415041,5.7944138844026165]  |\n",
      "|442.35|22.1       |71.29         |1008.2          |75.38            |[22.1,71.29,1008.2,75.38]  |[2.9654584886249022,5.609899297183762,169.76540145979476,5.1629186596485726] |\n",
      "|464.0 |14.47      |41.76         |1021.98         |78.41            |[14.47,41.76,1021.98,78.41]|[1.9416373000182052,3.2861466496057488,172.0857419002986,5.370449086004837]  |\n",
      "|428.77|31.25      |69.51         |1010.25         |36.83            |[31.25,69.51,1010.25,36.83]|[4.193238813100823,5.46982887006934,170.11058998686534,2.5225563045218484]   |\n",
      "|484.31|6.77       |38.18         |1017.8          |81.13            |[6.77,38.18,1017.8,81.13]  |[0.9084232564701622,3.004431970353149,171.38189407436926,5.556747026496269]  |\n",
      "|435.29|28.28      |68.67         |1006.36         |69.9             |[28.28,68.67,1006.36,69.9] |[3.7947133963037207,5.403728219071523,169.45557370866797,4.787583103070248]  |\n",
      "|451.41|22.99      |46.93         |1014.15         |49.42            |[22.99,46.93,1014.15,49.42]|[3.0848819300220134,3.692980418247074,170.76729011153625,3.3848691981935857] |\n",
      "|426.25|29.3       |70.04         |1010.95         |61.23            |[29.3,70.04,1010.95,61.23] |[3.9315807111633316,5.511535233198915,170.2284592400114,4.193758417753809]   |\n",
      "|480.66|8.14       |37.49         |1009.04         |80.33            |[8.14,37.49,1009.04,80.33] |[1.0922548460365025,2.9501350070335137,169.90684456357002,5.501953514587024] |\n",
      "|460.17|16.92      |44.6          |1017.34         |58.75            |[16.92,44.6,1017.34,58.75] |[2.2703872229653097,3.5096298029793203,171.30443713658758,4.023898530835151] |\n",
      "|453.13|22.72      |64.15         |1021.14         |60.34            |[22.72,64.15,1021.14,60.34]|[3.048652346676822,5.048043763702319,171.94429879652333,4.132800635754775]   |\n",
      "|461.71|18.14      |43.56         |1012.83         |47.1             |[18.14,43.56,1012.83,47.1] |[2.4340912662287657,3.4277909017439283,170.54502237703227,3.2259680136567765]|\n",
      "|471.08|11.49      |44.63         |1020.44         |86.04            |[11.49,44.63,1020.44,86.04]|[1.5417700468009106,3.5119905405149567,171.82642954337726,5.893042205839258] |\n",
      "|473.74|9.94       |40.46         |1018.9          |68.51            |[9.94,40.46,1018.9,68.51]  |[1.3337854016711097,3.183848023061509,171.56711718645593,4.692379376127936]  |\n",
      "|448.56|23.54      |41.1          |1002.05         |38.05            |[23.54,41.1,1002.05,38.05] |[3.158682933132588,3.23421042382175,168.72983587858295,2.6061164101834464]   |\n",
      "+------+-----------+--------------+----------------+-----------------+---------------------------+-----------------------------------------------------------------------------+\n",
      "only showing top 20 rows\n",
      "\n"
     ]
    }
   ],
   "source": [
    "ss_data.show(truncate=False)"
   ]
  },
  {
   "cell_type": "code",
   "execution_count": 17,
   "metadata": {
    "scrolled": true
   },
   "outputs": [],
   "source": [
    "(training, test) = ss_data.randomSplit([.7, .3])"
   ]
  },
  {
   "cell_type": "code",
   "execution_count": 18,
   "metadata": {
    "scrolled": true
   },
   "outputs": [
    {
     "name": "stdout",
     "output_type": "stream",
     "text": [
      "+-------+------------------+-----------------+------------------+------------------+------------------+\n",
      "|summary|             label|      temperature|    exhaust_vacuum|  ambient_pressure| relative_humidity|\n",
      "+-------+------------------+-----------------+------------------+------------------+------------------+\n",
      "|  count|              6787|             6787|              6787|              6787|              6787|\n",
      "|   mean| 454.4679416531598|19.61153676145574|54.279319286871676|1013.2649580079581| 73.36396051274491|\n",
      "| stddev|17.104800476576067|7.452224011402169|12.712821706006975| 5.976528716571987|14.539095522286205|\n",
      "|    min|            420.26|             1.81|             25.36|            992.89|             25.56|\n",
      "|    max|            495.76|            37.11|             81.56|            1033.3|            100.16|\n",
      "+-------+------------------+-----------------+------------------+------------------+------------------+\n",
      "\n"
     ]
    }
   ],
   "source": [
    "training.describe().show()"
   ]
  },
  {
   "cell_type": "code",
   "execution_count": 19,
   "metadata": {
    "scrolled": true
   },
   "outputs": [
    {
     "name": "stdout",
     "output_type": "stream",
     "text": [
      "+-------+------------------+------------------+------------------+------------------+-----------------+\n",
      "|summary|             label|       temperature|    exhaust_vacuum|  ambient_pressure|relative_humidity|\n",
      "+-------+------------------+------------------+------------------+------------------+-----------------+\n",
      "|  count|              2781|              2781|              2781|              2781|             2781|\n",
      "|   mean|454.11380438691145|19.748104998202066| 54.37043869111828|1013.2447285149223|73.17479323984189|\n",
      "| stddev|16.974822891921228| 7.453533923880616|12.697909515604232|  5.84668460809035|14.75026608961445|\n",
      "|    min|            425.18|              2.34|             25.36|            993.31|            25.89|\n",
      "|    max|            495.35|              35.1|             80.18|           1032.88|           100.13|\n",
      "+-------+------------------+------------------+------------------+------------------+-----------------+\n",
      "\n"
     ]
    }
   ],
   "source": [
    "test.describe().show()"
   ]
  },
  {
   "cell_type": "code",
   "execution_count": 20,
   "metadata": {
    "scrolled": true
   },
   "outputs": [],
   "source": [
    "lr = LinearRegression(maxIter=10, regParam=.01)"
   ]
  },
  {
   "cell_type": "code",
   "execution_count": 21,
   "metadata": {
    "scrolled": true
   },
   "outputs": [],
   "source": [
    "lr_model = lr.fit(training)"
   ]
  },
  {
   "cell_type": "markdown",
   "metadata": {},
   "source": [
    "Now that the linear regression model is built we can apply it on the test data using transform method.\n",
    "Before that we can look at the characteristics of our model i.e. coefficients and other parameters."
   ]
  },
  {
   "cell_type": "code",
   "execution_count": 22,
   "metadata": {
    "scrolled": true
   },
   "outputs": [
    {
     "data": {
      "text/plain": [
       "DenseVector([-14.698, -3.0327, 0.3655, -2.3092])"
      ]
     },
     "execution_count": 22,
     "metadata": {},
     "output_type": "execute_result"
    }
   ],
   "source": [
    "lr_model.coefficients"
   ]
  },
  {
   "cell_type": "code",
   "execution_count": 23,
   "metadata": {},
   "outputs": [
    {
     "data": {
      "text/plain": [
       "455.34227359104057"
      ]
     },
     "execution_count": 23,
     "metadata": {},
     "output_type": "execute_result"
    }
   ],
   "source": [
    "lr_model.intercept"
   ]
  },
  {
   "cell_type": "code",
   "execution_count": 24,
   "metadata": {},
   "outputs": [],
   "source": [
    "trainingSummary = lr_model.summary"
   ]
  },
  {
   "cell_type": "code",
   "execution_count": 25,
   "metadata": {},
   "outputs": [
    {
     "data": {
      "text/plain": [
       "4.582782318444667"
      ]
     },
     "execution_count": 25,
     "metadata": {},
     "output_type": "execute_result"
    }
   ],
   "source": [
    "trainingSummary.rootMeanSquaredError"
   ]
  },
  {
   "cell_type": "code",
   "execution_count": 26,
   "metadata": {},
   "outputs": [
    {
     "data": {
      "text/plain": [
       "3.637714542125518"
      ]
     },
     "execution_count": 26,
     "metadata": {},
     "output_type": "execute_result"
    }
   ],
   "source": [
    "trainingSummary.meanAbsoluteError"
   ]
  },
  {
   "cell_type": "code",
   "execution_count": 27,
   "metadata": {},
   "outputs": [
    {
     "data": {
      "text/plain": [
       "21.001893778249077"
      ]
     },
     "execution_count": 27,
     "metadata": {},
     "output_type": "execute_result"
    }
   ],
   "source": [
    "trainingSummary.meanSquaredError"
   ]
  },
  {
   "cell_type": "code",
   "execution_count": 28,
   "metadata": {},
   "outputs": [
    {
     "data": {
      "text/plain": [
       "0.92820628506889"
      ]
     },
     "execution_count": 28,
     "metadata": {},
     "output_type": "execute_result"
    }
   ],
   "source": [
    "trainingSummary.r2"
   ]
  },
  {
   "cell_type": "code",
   "execution_count": 29,
   "metadata": {
    "scrolled": true
   },
   "outputs": [],
   "source": [
    "prediction_df = lr_model.transform(test)"
   ]
  },
  {
   "cell_type": "code",
   "execution_count": 30,
   "metadata": {},
   "outputs": [
    {
     "name": "stdout",
     "output_type": "stream",
     "text": [
      "+------+-----------+--------------+----------------+-----------------+---------------------------+---------------------------------------------------------------------------+------------------+\n",
      "|label |temperature|exhaust_vacuum|ambient_pressure|relative_humidity|unscaled_features          |features                                                                   |prediction        |\n",
      "+------+-----------+--------------+----------------+-----------------+---------------------------+---------------------------------------------------------------------------+------------------+\n",
      "|425.18|32.84      |68.14         |1003.59         |43.88            |[32.84,68.14,1003.59,43.88]|[4.406590803911393,5.362021855941948,168.98914823550427,3.005424128222067] |429.13826616081616|\n",
      "|425.19|31.92      |69.13         |1000.77         |58.91            |[31.92,69.13,1000.77,58.91]|[4.283141853253705,5.439926194617946,168.514303529973,4.034857233216999]   |428.16576832598963|\n",
      "|425.21|31.12      |67.69         |1005.3          |50.46            |[31.12,67.69,1005.3,50.46] |[4.175794939638323,5.326610792907403,169.27708598247534,3.456100763675604] |431.70244872064245|\n",
      "|425.28|31.91      |67.83         |1008.76         |53.22            |[31.91,67.83,1008.76,53.22]|[4.281800016833512,5.337627568073706,169.85969686231158,3.6451383797624977]|429.88739867714946|\n",
      "|425.48|31.27      |69.13         |1009.45         |57.01            |[31.27,69.13,1009.45,57.01]|[4.195922485941208,5.439926194617946,169.97588226898415,3.9047226424325436]|430.2824289837105 |\n",
      "|425.5 |34.18      |67.9          |1005.87         |30.34            |[34.18,67.9,1005.87,30.34] |[4.586396884217156,5.343135955656858,169.37306523146572,2.0780439391581016]|428.83455018495096|\n",
      "|425.64|28.79      |70.79         |1003.83         |65.9             |[28.79,70.79,1003.83,65.9] |[3.863147053733526,5.570553671589823,169.02956055086864,4.513615543524025] |433.02549518339026|\n",
      "|425.68|31.46      |70.79         |1003.54         |59.51            |[31.46,70.79,1003.54,59.51]|[4.221417377924861,5.570553671589823,168.9807290031367,4.0759523671489335] |428.75242548286417|\n",
      "|425.71|30.26      |72.58         |1007.0          |65.51            |[30.26,72.58,1007.0,65.51] |[4.0603970075017894,5.711411011216122,169.56333988297294,4.486903706468268]|429.95591538965556|\n",
      "|425.75|32.67      |67.83         |1007.81         |42.16            |[32.67,67.83,1007.81,42.16]|[4.383779584768124,5.337627568073706,169.69973144732765,2.8876180776171907]|430.07927817097726|\n",
      "|425.82|31.16      |64.96         |1001.71         |44.85            |[31.16,64.96,1001.71,44.85]|[4.181162285319092,5.111783677164498,168.67258509848344,3.071861261412026] |432.9413927909671 |\n",
      "|425.89|32.95      |67.9          |1005.88         |45.15            |[32.95,67.9,1005.88,45.15] |[4.421351004533508,5.343135955656858,169.37474907793924,3.0924088283779922]|428.9186701523052 |\n",
      "|426.1 |30.85      |68.94         |1007.31         |68.99            |[30.85,68.94,1007.31,68.99]|[4.139565356293133,5.424974856892249,169.6155391236519,4.725255483273481]  |429.12965388818736|\n",
      "|426.15|31.43      |69.89         |1014.8          |56.22            |[31.43,69.89,1014.8,56.22] |[4.217391868664284,5.499731545520733,170.87674013231472,3.850614049422165] |430.2397100337043 |\n",
      "|426.22|35.03      |68.27         |1006.55         |43.82            |[35.03,68.27,1006.55,43.82]|[4.700452979933499,5.372251718596372,169.48756679166473,3.0013146148288734]|424.9797145142233 |\n",
      "|426.25|30.24      |68.24         |1009.68         |64.67            |[30.24,68.24,1009.68,64.67]|[4.057713334661404,5.369890981060736,170.014610737875,4.4293705189635615]  |431.3288773027631 |\n",
      "|426.3 |35.1       |68.27         |1006.96         |43.51            |[35.1,68.27,1006.96,43.51] |[4.709845834874844,5.372251718596372,169.55660449707887,2.980082128964041] |424.9159209328144 |\n",
      "|426.31|31.05      |69.13         |1000.38         |58.49            |[31.05,69.13,1000.38,58.49]|[4.166402084696978,5.439926194617946,168.44863351750593,4.006090639464647] |429.9240351537835 |\n",
      "|426.35|31.67      |69.89         |1013.88         |39.33            |[31.67,69.89,1013.88,39.33]|[4.249595942748898,5.499731545520733,170.72182625675134,2.693786029238238] |432.3810663066821 |\n",
      "|426.37|31.95      |70.79         |1003.8          |55.25            |[31.95,70.79,1003.8,55.25] |[4.287167362514281,5.570553671589823,169.0245090114481,3.7841769162322056] |428.47579240196154|\n",
      "+------+-----------+--------------+----------------+-----------------+---------------------------+---------------------------------------------------------------------------+------------------+\n",
      "only showing top 20 rows\n",
      "\n"
     ]
    }
   ],
   "source": [
    "prediction_df.show(truncate=False)"
   ]
  },
  {
   "cell_type": "code",
   "execution_count": 31,
   "metadata": {},
   "outputs": [
    {
     "name": "stdout",
     "output_type": "stream",
     "text": [
      "+------+------------------+\n",
      "|label |prediction        |\n",
      "+------+------------------+\n",
      "|425.18|429.13826616081616|\n",
      "|425.19|428.16576832598963|\n",
      "|425.21|431.70244872064245|\n",
      "|425.28|429.88739867714946|\n",
      "|425.48|430.2824289837105 |\n",
      "|425.5 |428.83455018495096|\n",
      "|425.64|433.02549518339026|\n",
      "|425.68|428.75242548286417|\n",
      "|425.71|429.95591538965556|\n",
      "|425.75|430.07927817097726|\n",
      "|425.82|432.9413927909671 |\n",
      "|425.89|428.9186701523052 |\n",
      "|426.1 |429.12965388818736|\n",
      "|426.15|430.2397100337043 |\n",
      "|426.22|424.9797145142233 |\n",
      "|426.25|431.3288773027631 |\n",
      "|426.3 |424.9159209328144 |\n",
      "|426.31|429.9240351537835 |\n",
      "|426.35|432.3810663066821 |\n",
      "|426.37|428.47579240196154|\n",
      "+------+------------------+\n",
      "only showing top 20 rows\n",
      "\n"
     ]
    }
   ],
   "source": [
    "prediction_df.select(\"label\",\"prediction\").show(truncate=False)"
   ]
  },
  {
   "cell_type": "code",
   "execution_count": 32,
   "metadata": {
    "scrolled": true
   },
   "outputs": [],
   "source": [
    "from pyspark.ml.evaluation import RegressionEvaluator\n",
    "eval = RegressionEvaluator(labelCol=\"label\", predictionCol=\"prediction\", metricName=\"rmse\")"
   ]
  },
  {
   "cell_type": "code",
   "execution_count": 33,
   "metadata": {
    "scrolled": true
   },
   "outputs": [
    {
     "name": "stdout",
     "output_type": "stream",
     "text": [
      "RMSE: 4.495\n"
     ]
    }
   ],
   "source": [
    "rmse = eval.evaluate(prediction_df)\n",
    "print(\"RMSE: %.3f\" % rmse)"
   ]
  },
  {
   "cell_type": "code",
   "execution_count": 34,
   "metadata": {
    "scrolled": true
   },
   "outputs": [
    {
     "name": "stdout",
     "output_type": "stream",
     "text": [
      "MSE: 20.202\n"
     ]
    }
   ],
   "source": [
    "mse = eval.evaluate(prediction_df, {eval.metricName: \"mse\"})\n",
    "print(\"MSE: %.3f\" % mse)"
   ]
  },
  {
   "cell_type": "code",
   "execution_count": 35,
   "metadata": {
    "scrolled": true
   },
   "outputs": [
    {
     "name": "stdout",
     "output_type": "stream",
     "text": [
      "MAE: 3.596\n"
     ]
    }
   ],
   "source": [
    "mae = eval.evaluate(prediction_df, {eval.metricName: \"mae\"})\n",
    "print(\"MAE: %.3f\" % mae)"
   ]
  },
  {
   "cell_type": "code",
   "execution_count": 36,
   "metadata": {
    "scrolled": true
   },
   "outputs": [
    {
     "name": "stdout",
     "output_type": "stream",
     "text": [
      "r2: 0.930\n"
     ]
    }
   ],
   "source": [
    "r2 = eval.evaluate(prediction_df, {eval.metricName: \"r2\"})\n",
    "print(\"r2: %.3f\" %r2)"
   ]
  },
  {
   "cell_type": "code",
   "execution_count": null,
   "metadata": {},
   "outputs": [],
   "source": []
  }
 ],
 "metadata": {
  "kernelspec": {
   "display_name": "Python 3",
   "language": "python",
   "name": "python3"
  },
  "language_info": {
   "codemirror_mode": {
    "name": "ipython",
    "version": 3
   },
   "file_extension": ".py",
   "mimetype": "text/x-python",
   "name": "python",
   "nbconvert_exporter": "python",
   "pygments_lexer": "ipython3",
   "version": "3.5.2"
  }
 },
 "nbformat": 4,
 "nbformat_minor": 2
}
