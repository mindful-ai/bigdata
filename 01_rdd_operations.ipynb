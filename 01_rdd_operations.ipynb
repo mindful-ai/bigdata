{
 "cells": [
  {
   "cell_type": "markdown",
   "metadata": {},
   "source": [
    "### Getting SparkContext"
   ]
  },
  {
   "cell_type": "code",
   "execution_count": 1,
   "metadata": {},
   "outputs": [],
   "source": [
    "import findspark\n",
    "findspark.init()"
   ]
  },
  {
   "cell_type": "code",
   "execution_count": 2,
   "metadata": {},
   "outputs": [],
   "source": [
    "import pyspark\n",
    "sc = pyspark.SparkContext(appName=\"Word Count Application\")"
   ]
  },
  {
   "cell_type": "code",
   "execution_count": 3,
   "metadata": {},
   "outputs": [
    {
     "data": {
      "text/html": [
       "\n",
       "        <div>\n",
       "            <p><b>SparkContext</b></p>\n",
       "\n",
       "            <p><a href=\"http://10.0.2.15:4040\">Spark UI</a></p>\n",
       "\n",
       "            <dl>\n",
       "              <dt>Version</dt>\n",
       "                <dd><code>v2.2.2</code></dd>\n",
       "              <dt>Master</dt>\n",
       "                <dd><code>local[*]</code></dd>\n",
       "              <dt>AppName</dt>\n",
       "                <dd><code>Word Count Application</code></dd>\n",
       "            </dl>\n",
       "        </div>\n",
       "        "
      ],
      "text/plain": [
       "<SparkContext master=local[*] appName=Word Count Application>"
      ]
     },
     "execution_count": 3,
     "metadata": {},
     "output_type": "execute_result"
    }
   ],
   "source": [
    "sc"
   ]
  },
  {
   "cell_type": "markdown",
   "metadata": {},
   "source": [
    "### RDD Creation"
   ]
  },
  {
   "cell_type": "code",
   "execution_count": 4,
   "metadata": {},
   "outputs": [
    {
     "data": {
      "text/plain": [
       "pyspark.rdd.RDD"
      ]
     },
     "execution_count": 4,
     "metadata": {},
     "output_type": "execute_result"
    }
   ],
   "source": [
    "lines = sc.textFile(\"war_and_peace.txt\")\n",
    "type(lines)"
   ]
  },
  {
   "cell_type": "code",
   "execution_count": 5,
   "metadata": {},
   "outputs": [
    {
     "data": {
      "text/plain": [
       "war_and_peace.txt MapPartitionsRDD[1] at textFile at NativeMethodAccessorImpl.java:0"
      ]
     },
     "execution_count": 5,
     "metadata": {},
     "output_type": "execute_result"
    }
   ],
   "source": [
    "lines"
   ]
  },
  {
   "cell_type": "markdown",
   "metadata": {},
   "source": [
    "### RDD Actions"
   ]
  },
  {
   "cell_type": "code",
   "execution_count": 6,
   "metadata": {},
   "outputs": [
    {
     "data": {
      "text/plain": [
       "'The Project Gutenberg EBook of War and Peace, by Leo Tolstoy'"
      ]
     },
     "execution_count": 6,
     "metadata": {},
     "output_type": "execute_result"
    }
   ],
   "source": [
    "lines.first()"
   ]
  },
  {
   "cell_type": "code",
   "execution_count": 7,
   "metadata": {},
   "outputs": [
    {
     "data": {
      "text/plain": [
       "63877"
      ]
     },
     "execution_count": 7,
     "metadata": {},
     "output_type": "execute_result"
    }
   ],
   "source": [
    "lines.count()"
   ]
  },
  {
   "cell_type": "code",
   "execution_count": 9,
   "metadata": {},
   "outputs": [
    {
     "data": {
      "text/plain": [
       "['The Project Gutenberg EBook of War and Peace, by Leo Tolstoy',\n",
       " '',\n",
       " 'This eBook is for the use of anyone anywhere at no cost and with almost',\n",
       " 'no restrictions whatsoever.  You may copy it, give it away or re-use it',\n",
       " 'under the terms of the Project Gutenberg License included with this']"
      ]
     },
     "execution_count": 9,
     "metadata": {},
     "output_type": "execute_result"
    }
   ],
   "source": [
    "lines.take(5)"
   ]
  },
  {
   "cell_type": "code",
   "execution_count": 10,
   "metadata": {},
   "outputs": [
    {
     "data": {
      "text/plain": [
       "1"
      ]
     },
     "execution_count": 10,
     "metadata": {},
     "output_type": "execute_result"
    }
   ],
   "source": [
    "lines.getNumPartitions()"
   ]
  },
  {
   "cell_type": "markdown",
   "metadata": {},
   "source": [
    "### RDD Transformations"
   ]
  },
  {
   "cell_type": "markdown",
   "metadata": {},
   "source": [
    "##### How many null lines are there?"
   ]
  },
  {
   "cell_type": "code",
   "execution_count": 11,
   "metadata": {},
   "outputs": [
    {
     "data": {
      "text/plain": [
       "pyspark.rdd.PipelinedRDD"
      ]
     },
     "execution_count": 11,
     "metadata": {},
     "output_type": "execute_result"
    }
   ],
   "source": [
    "null_lines = lines.filter(lambda line : len(line) == 0)\n",
    "type(null_lines)"
   ]
  },
  {
   "cell_type": "code",
   "execution_count": 12,
   "metadata": {},
   "outputs": [
    {
     "data": {
      "text/plain": [
       "12975"
      ]
     },
     "execution_count": 12,
     "metadata": {},
     "output_type": "execute_result"
    }
   ],
   "source": [
    "null_lines.count()"
   ]
  },
  {
   "cell_type": "markdown",
   "metadata": {},
   "source": [
    "##### Create a RDD with out null lines"
   ]
  },
  {
   "cell_type": "code",
   "execution_count": 13,
   "metadata": {},
   "outputs": [],
   "source": [
    "noNullLines = lines.filter(lambda line : len(line) > 0)"
   ]
  },
  {
   "cell_type": "code",
   "execution_count": 14,
   "metadata": {},
   "outputs": [
    {
     "data": {
      "text/plain": [
       "50902"
      ]
     },
     "execution_count": 14,
     "metadata": {},
     "output_type": "execute_result"
    }
   ],
   "source": [
    "noNullLines.count()"
   ]
  },
  {
   "cell_type": "code",
   "execution_count": 15,
   "metadata": {},
   "outputs": [
    {
     "data": {
      "text/plain": [
       "['The Project Gutenberg EBook of War and Peace, by Leo Tolstoy',\n",
       " 'This eBook is for the use of anyone anywhere at no cost and with almost',\n",
       " 'no restrictions whatsoever.  You may copy it, give it away or re-use it',\n",
       " 'under the terms of the Project Gutenberg License included with this',\n",
       " 'eBook or online at www.gutenberg.org',\n",
       " 'Title: War and Peace',\n",
       " 'Author: Leo Tolstoy',\n",
       " 'Translators: Louise and Aylmer Maude',\n",
       " 'Posting Date: January 10, 2009 [EBook #2600]',\n",
       " 'Last Updated: March 15, 2013']"
      ]
     },
     "execution_count": 15,
     "metadata": {},
     "output_type": "execute_result"
    }
   ],
   "source": [
    "noNullLines.take(10)"
   ]
  },
  {
   "cell_type": "markdown",
   "metadata": {},
   "source": [
    "##### Working with RDD partitions"
   ]
  },
  {
   "cell_type": "code",
   "execution_count": 16,
   "metadata": {},
   "outputs": [],
   "source": [
    "def getvalues():\n",
    "    return list(range(5))"
   ]
  },
  {
   "cell_type": "code",
   "execution_count": 17,
   "metadata": {},
   "outputs": [
    {
     "data": {
      "text/plain": [
       "[0, 1, 2, 3, 4]"
      ]
     },
     "execution_count": 17,
     "metadata": {},
     "output_type": "execute_result"
    }
   ],
   "source": [
    "r = getvalues()\n",
    "r"
   ]
  },
  {
   "cell_type": "code",
   "execution_count": 18,
   "metadata": {},
   "outputs": [
    {
     "name": "stdout",
     "output_type": "stream",
     "text": [
      "0 1 2 3 4 "
     ]
    }
   ],
   "source": [
    "for i in r:\n",
    "    print(i, end=' ')"
   ]
  },
  {
   "cell_type": "code",
   "execution_count": 19,
   "metadata": {},
   "outputs": [
    {
     "name": "stdout",
     "output_type": "stream",
     "text": [
      "0 1 2 3 4 "
     ]
    }
   ],
   "source": [
    "for i in r:\n",
    "    print(i, end=' ')"
   ]
  },
  {
   "cell_type": "code",
   "execution_count": 21,
   "metadata": {},
   "outputs": [],
   "source": [
    "def getvalues_y():\n",
    "    yield 0\n",
    "    yield 1\n",
    "    yield 2\n",
    "    yield 3\n",
    "    yield 4"
   ]
  },
  {
   "cell_type": "code",
   "execution_count": 23,
   "metadata": {},
   "outputs": [
    {
     "data": {
      "text/plain": [
       "<generator object getvalues_y at 0x7f66362f9db0>"
      ]
     },
     "execution_count": 23,
     "metadata": {},
     "output_type": "execute_result"
    }
   ],
   "source": [
    "r = getvalues_y()\n",
    "r"
   ]
  },
  {
   "cell_type": "code",
   "execution_count": 24,
   "metadata": {},
   "outputs": [
    {
     "data": {
      "text/plain": [
       "0"
      ]
     },
     "execution_count": 24,
     "metadata": {},
     "output_type": "execute_result"
    }
   ],
   "source": [
    "next(r)"
   ]
  },
  {
   "cell_type": "code",
   "execution_count": 25,
   "metadata": {},
   "outputs": [
    {
     "data": {
      "text/plain": [
       "1"
      ]
     },
     "execution_count": 25,
     "metadata": {},
     "output_type": "execute_result"
    }
   ],
   "source": [
    "next(r)"
   ]
  },
  {
   "cell_type": "code",
   "execution_count": 26,
   "metadata": {},
   "outputs": [
    {
     "name": "stdout",
     "output_type": "stream",
     "text": [
      "2 3 4 "
     ]
    }
   ],
   "source": [
    "for i in r:\n",
    "    print(i, end=' ')"
   ]
  },
  {
   "cell_type": "code",
   "execution_count": 27,
   "metadata": {},
   "outputs": [],
   "source": [
    "for i in r:\n",
    "    print(i, end=' ')"
   ]
  },
  {
   "cell_type": "code",
   "execution_count": 28,
   "metadata": {},
   "outputs": [],
   "source": [
    "r = getvalues_y()"
   ]
  },
  {
   "cell_type": "code",
   "execution_count": 29,
   "metadata": {},
   "outputs": [
    {
     "name": "stdout",
     "output_type": "stream",
     "text": [
      "0 1 2 3 4 "
     ]
    }
   ],
   "source": [
    "for i in r:\n",
    "    print(i, end=' ')"
   ]
  },
  {
   "cell_type": "code",
   "execution_count": 30,
   "metadata": {},
   "outputs": [],
   "source": [
    "for i in r:\n",
    "    print(i, end=' ')"
   ]
  },
  {
   "cell_type": "code",
   "execution_count": null,
   "metadata": {},
   "outputs": [],
   "source": []
  },
  {
   "cell_type": "code",
   "execution_count": null,
   "metadata": {},
   "outputs": [],
   "source": []
  },
  {
   "cell_type": "code",
   "execution_count": 63,
   "metadata": {},
   "outputs": [],
   "source": [
    "def count_in_partition(iterator):\n",
    "    yield sum(1 for i in iterator)"
   ]
  },
  {
   "cell_type": "code",
   "execution_count": 64,
   "metadata": {},
   "outputs": [],
   "source": [
    "partitions = lines.mapPartitions(count_in_partition).collect()"
   ]
  },
  {
   "cell_type": "code",
   "execution_count": 65,
   "metadata": {},
   "outputs": [
    {
     "data": {
      "text/plain": [
       "(list, [63877])"
      ]
     },
     "execution_count": 65,
     "metadata": {},
     "output_type": "execute_result"
    }
   ],
   "source": [
    "type(partitions), partitions"
   ]
  },
  {
   "cell_type": "markdown",
   "metadata": {},
   "source": [
    "##### How many words are there?"
   ]
  },
  {
   "cell_type": "code",
   "execution_count": 35,
   "metadata": {},
   "outputs": [],
   "source": [
    "words = noNullLines.flatMap(lambda line : line.split())"
   ]
  },
  {
   "cell_type": "code",
   "execution_count": 36,
   "metadata": {},
   "outputs": [
    {
     "data": {
      "text/plain": [
       "pyspark.rdd.PipelinedRDD"
      ]
     },
     "execution_count": 36,
     "metadata": {},
     "output_type": "execute_result"
    }
   ],
   "source": [
    "type(words)"
   ]
  },
  {
   "cell_type": "code",
   "execution_count": 37,
   "metadata": {},
   "outputs": [
    {
     "data": {
      "text/plain": [
       "562613"
      ]
     },
     "execution_count": 37,
     "metadata": {},
     "output_type": "execute_result"
    }
   ],
   "source": [
    "words.count()"
   ]
  },
  {
   "cell_type": "code",
   "execution_count": 38,
   "metadata": {},
   "outputs": [
    {
     "data": {
      "text/plain": [
       "['The', 'Project', 'Gutenberg', 'EBook', 'of']"
      ]
     },
     "execution_count": 38,
     "metadata": {},
     "output_type": "execute_result"
    }
   ],
   "source": [
    "words.take(5)"
   ]
  },
  {
   "cell_type": "markdown",
   "metadata": {},
   "source": [
    "##### Convert all the words in lowercase"
   ]
  },
  {
   "cell_type": "code",
   "execution_count": 39,
   "metadata": {},
   "outputs": [],
   "source": [
    "lowercase_words = words.map(lambda word : word.lower())"
   ]
  },
  {
   "cell_type": "code",
   "execution_count": 40,
   "metadata": {},
   "outputs": [
    {
     "data": {
      "text/plain": [
       "562613"
      ]
     },
     "execution_count": 40,
     "metadata": {},
     "output_type": "execute_result"
    }
   ],
   "source": [
    "lowercase_words.count()"
   ]
  },
  {
   "cell_type": "code",
   "execution_count": 41,
   "metadata": {},
   "outputs": [
    {
     "data": {
      "text/plain": [
       "['the', 'project', 'gutenberg', 'ebook', 'of']"
      ]
     },
     "execution_count": 41,
     "metadata": {},
     "output_type": "execute_result"
    }
   ],
   "source": [
    "lowercase_words.take(5)"
   ]
  },
  {
   "cell_type": "markdown",
   "metadata": {},
   "source": [
    "##### Create a key, value pair for the sake of reduction"
   ]
  },
  {
   "cell_type": "code",
   "execution_count": 42,
   "metadata": {},
   "outputs": [],
   "source": [
    "paired = lowercase_words.map(lambda w : (w, 1))"
   ]
  },
  {
   "cell_type": "code",
   "execution_count": 43,
   "metadata": {},
   "outputs": [
    {
     "data": {
      "text/plain": [
       "562613"
      ]
     },
     "execution_count": 43,
     "metadata": {},
     "output_type": "execute_result"
    }
   ],
   "source": [
    "paired.count()"
   ]
  },
  {
   "cell_type": "code",
   "execution_count": 44,
   "metadata": {},
   "outputs": [
    {
     "data": {
      "text/plain": [
       "[('the', 1), ('project', 1), ('gutenberg', 1), ('ebook', 1), ('of', 1)]"
      ]
     },
     "execution_count": 44,
     "metadata": {},
     "output_type": "execute_result"
    }
   ],
   "source": [
    "paired.take(5)"
   ]
  },
  {
   "cell_type": "markdown",
   "metadata": {},
   "source": [
    "##### Understanding the python's version of reduce"
   ]
  },
  {
   "cell_type": "code",
   "execution_count": 45,
   "metadata": {},
   "outputs": [],
   "source": [
    "from functools import reduce"
   ]
  },
  {
   "cell_type": "code",
   "execution_count": 46,
   "metadata": {},
   "outputs": [
    {
     "data": {
      "text/plain": [
       "10"
      ]
     },
     "execution_count": 46,
     "metadata": {},
     "output_type": "execute_result"
    }
   ],
   "source": [
    "L = [1, 2, 3, 4]\n",
    "reduce(lambda x, y: x + y, L)"
   ]
  },
  {
   "cell_type": "markdown",
   "metadata": {},
   "source": [
    "##### A similar process can be used in pyspark"
   ]
  },
  {
   "cell_type": "code",
   "execution_count": 47,
   "metadata": {},
   "outputs": [],
   "source": [
    "wordcounts = paired.reduceByKey(lambda a, b : a + b)"
   ]
  },
  {
   "cell_type": "code",
   "execution_count": 49,
   "metadata": {},
   "outputs": [],
   "source": [
    "count_list = wordcounts.take(5)"
   ]
  },
  {
   "cell_type": "code",
   "execution_count": 50,
   "metadata": {},
   "outputs": [
    {
     "data": {
      "text/plain": [
       "list"
      ]
     },
     "execution_count": 50,
     "metadata": {},
     "output_type": "execute_result"
    }
   ],
   "source": [
    "type(count_list)"
   ]
  },
  {
   "cell_type": "markdown",
   "metadata": {},
   "source": [
    "##### Print the list"
   ]
  },
  {
   "cell_type": "code",
   "execution_count": 52,
   "metadata": {},
   "outputs": [
    {
     "name": "stdout",
     "output_type": "stream",
     "text": [
      "('battle--', 1)\n",
      "('century)', 1)\n",
      "(\"lannes'\", 1)\n",
      "('\"pierre,', 1)\n",
      "('snap.', 1)\n"
     ]
    }
   ],
   "source": [
    "for item in count_list:\n",
    "    print(item)"
   ]
  },
  {
   "cell_type": "markdown",
   "metadata": {},
   "source": [
    "##### Creating an RDD from existing data"
   ]
  },
  {
   "cell_type": "code",
   "execution_count": 53,
   "metadata": {},
   "outputs": [],
   "source": [
    "import random\n",
    "rn = [random.randint(1, 100) for _ in range(100)]\n"
   ]
  },
  {
   "cell_type": "code",
   "execution_count": 54,
   "metadata": {},
   "outputs": [
    {
     "data": {
      "text/plain": [
       "[35,\n",
       " 39,\n",
       " 5,\n",
       " 11,\n",
       " 86,\n",
       " 95,\n",
       " 14,\n",
       " 12,\n",
       " 74,\n",
       " 63,\n",
       " 61,\n",
       " 31,\n",
       " 63,\n",
       " 84,\n",
       " 100,\n",
       " 95,\n",
       " 90,\n",
       " 94,\n",
       " 9,\n",
       " 74,\n",
       " 23,\n",
       " 99,\n",
       " 39,\n",
       " 4,\n",
       " 67,\n",
       " 35,\n",
       " 88,\n",
       " 96,\n",
       " 68,\n",
       " 10,\n",
       " 73,\n",
       " 70,\n",
       " 14,\n",
       " 98,\n",
       " 22,\n",
       " 39,\n",
       " 31,\n",
       " 62,\n",
       " 79,\n",
       " 88,\n",
       " 85,\n",
       " 85,\n",
       " 1,\n",
       " 85,\n",
       " 63,\n",
       " 99,\n",
       " 58,\n",
       " 9,\n",
       " 64,\n",
       " 74,\n",
       " 9,\n",
       " 97,\n",
       " 66,\n",
       " 72,\n",
       " 58,\n",
       " 22,\n",
       " 73,\n",
       " 53,\n",
       " 20,\n",
       " 90,\n",
       " 2,\n",
       " 3,\n",
       " 86,\n",
       " 45,\n",
       " 97,\n",
       " 13,\n",
       " 60,\n",
       " 46,\n",
       " 41,\n",
       " 92,\n",
       " 6,\n",
       " 17,\n",
       " 5,\n",
       " 22,\n",
       " 84,\n",
       " 62,\n",
       " 47,\n",
       " 12,\n",
       " 46,\n",
       " 1,\n",
       " 74,\n",
       " 31,\n",
       " 23,\n",
       " 21,\n",
       " 94,\n",
       " 32,\n",
       " 65,\n",
       " 69,\n",
       " 82,\n",
       " 66,\n",
       " 59,\n",
       " 92,\n",
       " 28,\n",
       " 36,\n",
       " 73,\n",
       " 61,\n",
       " 47,\n",
       " 63,\n",
       " 84,\n",
       " 12]"
      ]
     },
     "execution_count": 54,
     "metadata": {},
     "output_type": "execute_result"
    }
   ],
   "source": [
    "rn"
   ]
  },
  {
   "cell_type": "code",
   "execution_count": 55,
   "metadata": {},
   "outputs": [],
   "source": [
    "rn_rdd = sc.parallelize(rn)"
   ]
  },
  {
   "cell_type": "code",
   "execution_count": 56,
   "metadata": {},
   "outputs": [
    {
     "data": {
      "text/plain": [
       "pyspark.rdd.RDD"
      ]
     },
     "execution_count": 56,
     "metadata": {},
     "output_type": "execute_result"
    }
   ],
   "source": [
    "type(rn_rdd)"
   ]
  },
  {
   "cell_type": "code",
   "execution_count": 57,
   "metadata": {},
   "outputs": [
    {
     "data": {
      "text/plain": [
       "1"
      ]
     },
     "execution_count": 57,
     "metadata": {},
     "output_type": "execute_result"
    }
   ],
   "source": [
    "rn_rdd.getNumPartitions()"
   ]
  },
  {
   "cell_type": "code",
   "execution_count": 58,
   "metadata": {},
   "outputs": [],
   "source": [
    "rn_rdd = sc.parallelize(rn, 4)"
   ]
  },
  {
   "cell_type": "code",
   "execution_count": 59,
   "metadata": {},
   "outputs": [
    {
     "data": {
      "text/plain": [
       "4"
      ]
     },
     "execution_count": 59,
     "metadata": {},
     "output_type": "execute_result"
    }
   ],
   "source": [
    "rn_rdd.getNumPartitions()"
   ]
  },
  {
   "cell_type": "code",
   "execution_count": 66,
   "metadata": {},
   "outputs": [],
   "source": [
    "partitions_rn_rdd = rn_rdd.mapPartitions(count_in_partition).collect()"
   ]
  },
  {
   "cell_type": "code",
   "execution_count": 67,
   "metadata": {},
   "outputs": [
    {
     "data": {
      "text/plain": [
       "[25, 25, 25, 25]"
      ]
     },
     "execution_count": 67,
     "metadata": {},
     "output_type": "execute_result"
    }
   ],
   "source": [
    "partitions_rn_rdd"
   ]
  },
  {
   "cell_type": "markdown",
   "metadata": {},
   "source": [
    "##### Stop the SparkContext"
   ]
  },
  {
   "cell_type": "code",
   "execution_count": 68,
   "metadata": {},
   "outputs": [],
   "source": [
    "sc.stop()"
   ]
  },
  {
   "cell_type": "code",
   "execution_count": null,
   "metadata": {},
   "outputs": [],
   "source": []
  },
  {
   "cell_type": "code",
   "execution_count": null,
   "metadata": {},
   "outputs": [],
   "source": []
  },
  {
   "cell_type": "code",
   "execution_count": null,
   "metadata": {},
   "outputs": [],
   "source": []
  },
  {
   "cell_type": "code",
   "execution_count": null,
   "metadata": {},
   "outputs": [],
   "source": []
  },
  {
   "cell_type": "markdown",
   "metadata": {},
   "source": [
    "### Use of DAG for creating spark application"
   ]
  },
  {
   "cell_type": "code",
   "execution_count": 93,
   "metadata": {},
   "outputs": [],
   "source": [
    "# Getting the SparkContext\n",
    "sc = pyspark.SparkContext(appName=\"Word Count Application using DAG\")"
   ]
  },
  {
   "cell_type": "code",
   "execution_count": 94,
   "metadata": {},
   "outputs": [],
   "source": [
    "# Loading the data and creating RDD\n",
    "rdd = sc.textFile(\"war_and_peace.txt\", 4)"
   ]
  },
  {
   "cell_type": "code",
   "execution_count": 95,
   "metadata": {},
   "outputs": [],
   "source": [
    "# Stage 1 processing\n",
    "no_null_lines = rdd.filter(lambda line : len(line) > 0)\n",
    "words = no_null_lines.flatMap(lambda line : line.split())\n",
    "uppercase_words = words.map(lambda word : word.upper())\n",
    "paired = uppercase_words.map(lambda w : (w, 1))"
   ]
  },
  {
   "cell_type": "code",
   "execution_count": null,
   "metadata": {},
   "outputs": [],
   "source": []
  },
  {
   "cell_type": "code",
   "execution_count": 106,
   "metadata": {},
   "outputs": [
    {
     "data": {
      "text/plain": [
       "[('\"\\'COME', 1),\n",
       " ('\"\\'DIEU', 1),\n",
       " ('\"\\'DIO', 1),\n",
       " ('\"\\'FROM', 1),\n",
       " ('\"\\'GRANT', 1),\n",
       " ('\"\\'I', 4),\n",
       " ('\"\\'NO', 1),\n",
       " ('\"\\'NOW', 1),\n",
       " ('\"\\'RUSSIA', 1),\n",
       " ('\"\\'SERGEY', 1),\n",
       " ('\"\\'THE', 1),\n",
       " ('\"\\'TO', 1),\n",
       " ('\"\\'TOLD', 1),\n",
       " ('\"\\'WHAT', 1),\n",
       " ('\"\\'YOU', 1),\n",
       " ('\"-SO', 1),\n",
       " ('\"...OF', 1),\n",
       " ('\"5\"', 1),\n",
       " ('\"800', 2),\n",
       " ('\"A', 81),\n",
       " ('\"A-TU!\"', 3),\n",
       " ('\"AAH!\"', 1),\n",
       " ('\"ABOUT', 7),\n",
       " ('\"ABOUT...\"', 1),\n",
       " ('\"ABSTIENS-TOI\"', 1),\n",
       " ('\"ACCORDING', 1),\n",
       " ('\"ADELE', 1),\n",
       " ('\"ADIEU,', 2),\n",
       " ('\"ADJUTANT!\"', 1),\n",
       " ('\"ADMIRABLE!\"', 1),\n",
       " ('\"ADORABLE!', 1),\n",
       " ('\"ADORED', 1),\n",
       " ('\"ADVISERS\"', 1),\n",
       " ('\"AFRAID', 3),\n",
       " ('\"AFTER', 9),\n",
       " ('\"AGAIN!\"', 1),\n",
       " ('\"AGAIN,', 1),\n",
       " ('\"AGAINST', 1),\n",
       " ('\"AH', 5),\n",
       " ('\"AH!', 14),\n",
       " ('\"AH!\"', 6),\n",
       " ('\"AH!...', 1),\n",
       " ('\"AH!...\"', 1),\n",
       " ('\"AH,', 111),\n",
       " ('\"AH...', 1),\n",
       " ('\"AH?', 1),\n",
       " ('\"AHAHAH!\"', 1),\n",
       " ('\"ALEXANDER,', 1),\n",
       " ('\"ALINE,\"', 1),\n",
       " ('\"ALL', 56),\n",
       " ('\"ALLEY!', 1),\n",
       " ('\"ALLOW', 9),\n",
       " ('\"ALMOST', 1),\n",
       " ('\"ALONE', 1),\n",
       " ('\"ALPATYCH!\"', 1),\n",
       " ('\"ALPATYCH,', 1),\n",
       " ('\"ALTOGETHER', 1),\n",
       " ('\"ALWAYS', 6),\n",
       " ('\"AM', 6),\n",
       " ('\"AMONG', 1),\n",
       " ('\"AN', 4),\n",
       " ('\"ANATOLE', 1),\n",
       " ('\"ANATOLE,', 1),\n",
       " ('\"AND', 324),\n",
       " ('\"AND,', 1),\n",
       " ('\"ANDRE,\"', 1),\n",
       " ('\"ANDREW', 3),\n",
       " ('\"ANDREW!', 1),\n",
       " ('\"ANDREW!\"', 1),\n",
       " ('\"ANDREW,', 8),\n",
       " ('\"ANDRUSHA.\"', 1),\n",
       " ('\"ANGEL', 1),\n",
       " ('\"ANGEL!', 1),\n",
       " ('\"ANGINA?', 1),\n",
       " ('\"ANISYA,', 1),\n",
       " ('\"ANNA', 2),\n",
       " ('\"ANNETTE,', 1),\n",
       " ('\"ANNOUNCE', 1),\n",
       " ('\"ANOTHER', 7),\n",
       " ('\"ANY', 2),\n",
       " ('\"ANYBODY', 1),\n",
       " ('\"ANYHOW', 1),\n",
       " ('\"ANYHOW,', 1),\n",
       " ('\"APROPOS,', 1),\n",
       " ('\"ARAKCHEEV', 1),\n",
       " ('\"ARE', 32),\n",
       " ('\"AREN\\'T', 2),\n",
       " ('\"ARGUING?', 1),\n",
       " ('\"ARINKA!', 1),\n",
       " ('\"ARNAUTS!\"', 1),\n",
       " ('\"ARRANGE', 2),\n",
       " ('\"ARRANGING', 1),\n",
       " ('\"AS', 27),\n",
       " ('\"ASK', 4),\n",
       " ('\"ASKS', 1),\n",
       " ('\"ASLEEP,', 1),\n",
       " ('\"ASSURE', 1),\n",
       " ('\"AT', 22),\n",
       " ('\"ATT-ENTION!\"', 1),\n",
       " ('\"ATTACK', 1),\n",
       " ('\"ATTENDEZ,\"', 1),\n",
       " ('\"ATTENTION!\"', 1),\n",
       " ('\"AU', 1),\n",
       " ('\"AUNT,', 1),\n",
       " ('\"AUNTIE,', 1),\n",
       " ('\"AUTHOR!', 1),\n",
       " ('\"AWAY', 1),\n",
       " ('\"AWFULLY', 1),\n",
       " ('\"AWFULLY,', 1),\n",
       " ('\"AWKWARD', 1),\n",
       " ('\"AWL,', 1),\n",
       " ('\"AYE,', 1),\n",
       " ('\"BACK', 1),\n",
       " ('\"BACK!\"', 1),\n",
       " ('\"BAD', 1),\n",
       " ('\"BAD!', 2),\n",
       " ('\"BAH!', 1),\n",
       " ('\"BAH,', 1),\n",
       " ('\"BANK,', 1),\n",
       " ('\"BARON', 1),\n",
       " ('\"BATON', 1),\n",
       " ('\"BE', 16),\n",
       " ('\"BEAT', 1),\n",
       " ('\"BEAUTIFUL,\"', 1),\n",
       " ('\"BECAUSE', 17),\n",
       " ('\"BECAUSE,', 2),\n",
       " ('\"BECAUSE--THAT\\'S', 1),\n",
       " ('\"BECOME', 1),\n",
       " ('\"BEEN', 1),\n",
       " ('\"BEFORE', 2),\n",
       " ('\"BEGINS', 1),\n",
       " ('\"BELIEVE', 4),\n",
       " ('\"BENNIGSEN', 1),\n",
       " ('\"BESIDES', 3),\n",
       " ('\"BESIDES,', 7),\n",
       " ('\"BESIDES,\"', 2),\n",
       " ('\"BETRAYED!', 1),\n",
       " ('\"BETTER', 4),\n",
       " ('\"BEZUKHOV', 1),\n",
       " ('\"BEZUKHOV.\"', 1),\n",
       " ('\"BILIOUS', 1),\n",
       " ('\"BIND', 2),\n",
       " ('\"BLACKGUARDS!...', 1),\n",
       " ('\"BLAST', 1),\n",
       " ('\"BLOCKHEAD!', 1),\n",
       " ('\"BOARD', 2),\n",
       " ('\"BOGUCHAROVO', 1),\n",
       " ('\"BOLKONSKI', 1),\n",
       " ('\"BOLKONSKI!', 1),\n",
       " ('\"BOLKONSKI!\"', 2),\n",
       " ('\"BONAPARTE', 2),\n",
       " ('\"BONAPARTE...\"', 1),\n",
       " ('\"BONJOUR,', 2),\n",
       " ('\"BOOBY\"', 1),\n",
       " ('\"BOOM!\"', 1),\n",
       " ('\"BOOM,', 1),\n",
       " ('\"BORIS', 2),\n",
       " ('\"BORIS,', 1),\n",
       " ('\"BORIS,\"', 1),\n",
       " ('\"BORODINO,\"', 1),\n",
       " ('\"BOSSE!', 1),\n",
       " ('\"BOTH', 2),\n",
       " ('\"BOW', 1),\n",
       " ('\"BRAVO!', 1),\n",
       " ('\"BRAVO!\"', 1),\n",
       " ('\"BRAVO!\"--THERE', 1),\n",
       " ('\"BREAKERS-UP,\"', 1),\n",
       " ('\"BRIDGE\"', 1),\n",
       " ('\"BRIGAND!', 2),\n",
       " ('\"BRING', 5),\n",
       " ('\"BROTHER-INSTRUCTOR\"', 1),\n",
       " ('\"BROTHERS!', 2),\n",
       " ('\"BROTHERS!\"', 2),\n",
       " ('\"BUONAPARTE', 2),\n",
       " ('\"BUONAPARTE?\"', 2),\n",
       " ('\"BURDINO,', 1),\n",
       " ('\"BUSY', 1),\n",
       " ('\"BUT', 315),\n",
       " ('\"BUT,', 18),\n",
       " ('\"BUT...', 3),\n",
       " ('\"BUT...\"', 1),\n",
       " ('\"BWING', 2),\n",
       " ('\"BY', 6),\n",
       " ('\"C\\'EST', 3),\n",
       " ('\"C\\'EST...', 1),\n",
       " ('\"CALL', 6),\n",
       " ('\"CALM', 2),\n",
       " ('\"CAME', 1),\n",
       " ('\"CAN', 22),\n",
       " ('\"CAN\\'T', 1),\n",
       " ('\"CAPITAL!\"', 1),\n",
       " ('\"CAPS', 1),\n",
       " ('\"CAPTAIN', 3),\n",
       " ('\"CAPTAIN,', 2),\n",
       " ('\"CARROT', 1),\n",
       " ('\"CARRY', 1),\n",
       " ('\"CATCH', 3),\n",
       " ('\"CATICHE', 1),\n",
       " ('\"CAVALRY!\"', 1),\n",
       " ('\"CE', 1),\n",
       " ('\"CELA', 1),\n",
       " ('\"CEPENDANT,', 1),\n",
       " ('\"CERTAINLY', 1),\n",
       " ('\"CERTAINLY;', 1),\n",
       " ('\"CETTE', 2),\n",
       " ('\"CHANCE', 1),\n",
       " ('\"CHARGE!\"', 1),\n",
       " ('\"CHARMANTE.\"', 1),\n",
       " ('\"CHARME', 1),\n",
       " ('\"CHARMED', 1),\n",
       " ('\"CHARMEE', 1),\n",
       " ('\"CHARMING!', 1),\n",
       " ('\"CHARMING!\"', 3),\n",
       " ('\"CHARMING,', 1),\n",
       " ('\"CHILD', 1),\n",
       " ('\"CHRIST', 2),\n",
       " ('\"CHRISTIAN\"', 1),\n",
       " ('\"CLEAR', 2),\n",
       " ('\"CLOSE', 1),\n",
       " ('\"CLOSER,', 1),\n",
       " ('\"CO-O-OM-PA-NY!\"', 1),\n",
       " ('\"COLLECTOR', 1),\n",
       " ('\"COLONEL', 1),\n",
       " ('\"COLONEL,', 1),\n",
       " ('\"COLONEL,\"', 2),\n",
       " ('\"COME', 40),\n",
       " ('\"COME!', 2),\n",
       " ('\"COME,', 18),\n",
       " ('\"COME,\"', 1),\n",
       " ('\"COME.\"', 1),\n",
       " ('\"COMING!\"', 1),\n",
       " ('\"COMING,', 1),\n",
       " ('\"COMMANDER', 3),\n",
       " ('\"COMMIT', 1),\n",
       " ('\"COMMUNING\"', 1),\n",
       " ('\"COMPANY', 1),\n",
       " ('\"COMPASSION,', 1),\n",
       " ('\"COMPLAINS', 1),\n",
       " ('\"COMTESSE,', 1),\n",
       " ('\"CONCEAL', 1),\n",
       " ('\"CONFOUND', 2),\n",
       " ('\"CONGRATULATE\"', 1),\n",
       " ('\"CONJUGAL', 1),\n",
       " ('\"CONNAISSEZ-VOUS', 1),\n",
       " ('\"CONQUEST\\'S', 1),\n",
       " ('\"CONSIDER', 1),\n",
       " ('\"CONTEZ', 1),\n",
       " ('\"CORPORAL,', 1),\n",
       " ('\"COSSACK!\"', 1),\n",
       " ('\"COULDN\\'T', 1),\n",
       " ('\"COUNT', 7),\n",
       " ('\"COUNT!', 5),\n",
       " ('\"COUNT!\"', 1),\n",
       " ('\"COUNT!...', 1),\n",
       " ('\"COUNT,', 2),\n",
       " ('\"COUNT...\"', 1),\n",
       " ('\"COUNTESS', 2),\n",
       " ('\"COUNTESS,', 2),\n",
       " ('\"COUNTESS...\"', 1),\n",
       " ('\"COURAGE,', 1),\n",
       " ('\"COUSINAGE--', 1),\n",
       " ('\"COUSINHOOD', 1),\n",
       " ('\"COVER', 1),\n",
       " ('\"CRAZY?\"', 1),\n",
       " ('\"CREAM', 1),\n",
       " ('\"CREW,', 1),\n",
       " ('\"CUT', 5),\n",
       " ('\"CUTTERS-OFF\"', 1),\n",
       " ('\"D\\'', 1),\n",
       " ('\"DANIEL!\"', 1),\n",
       " ('\"DANIEL,', 1),\n",
       " ('\"DAREDEVIL,\"', 1),\n",
       " ('\"DARKNESS', 1),\n",
       " ('\"DARLING', 2),\n",
       " ('\"DAS', 1),\n",
       " ('\"DAT', 1),\n",
       " ('\"DAY', 1),\n",
       " ('\"DE', 1),\n",
       " ('\"DEAD,', 1),\n",
       " ('\"DEAL', 1),\n",
       " ('\"DEAR', 22),\n",
       " ('\"DEAR,', 3),\n",
       " ('\"DEAR-EST!\"', 2),\n",
       " ('\"DEAREST,', 1),\n",
       " ('\"DEAREST,\"', 1),\n",
       " ('\"DEAREST...', 1),\n",
       " ('\"DECIDE', 1),\n",
       " ('\"DECISION?', 1),\n",
       " ('\"DEFINITELY', 1),\n",
       " ('\"DELIGHTED', 2),\n",
       " ('\"DELIGHTFUL!\"', 1),\n",
       " ('\"DEMOSTHENES,', 1),\n",
       " ('\"DENISOV!', 1),\n",
       " ('\"DENISOV,', 2),\n",
       " ('\"DER', 3),\n",
       " ('\"DERE', 1),\n",
       " ('\"DESIRE', 1),\n",
       " ('\"DESPITE', 1),\n",
       " ('\"DESTROYING', 1),\n",
       " ('\"DEVIL', 4),\n",
       " ('\"DID', 8),\n",
       " ('\"DIDN\\'T', 7),\n",
       " ('\"DIEU', 2),\n",
       " ('\"DIEU!', 1),\n",
       " ('\"DIPLOMAT,\"', 1),\n",
       " ('\"DIPLOMATIC', 1),\n",
       " ('\"DIRECTLY!', 1),\n",
       " ('\"DIRECTLY!\"', 1),\n",
       " ('\"DISCHARGE', 1),\n",
       " ('\"DISGUSTING,', 1),\n",
       " ('\"DISPOSITIONS', 2),\n",
       " ('\"DISPOSITIONS.\"', 1),\n",
       " ('\"DITES', 1),\n",
       " ('\"DMITRI,\"', 1),\n",
       " ('\"DO', 74),\n",
       " ('\"DO,', 1),\n",
       " ('\"DOES', 5),\n",
       " ('\"DOESN\\'T', 1),\n",
       " ('\"DOLOKHOV,', 1),\n",
       " ('\"DON\\'T', 55),\n",
       " ('\"DON\\'T!', 2),\n",
       " ('\"DON\\'T,', 5),\n",
       " ('\"DONE', 2),\n",
       " ('\"DRAIN', 1),\n",
       " ('\"DRAM-DA-DA-DAM,', 1),\n",
       " ('\"DRAW', 1),\n",
       " ('\"DRINK,', 1),\n",
       " ('\"DRONES\"', 1),\n",
       " ('\"DRONUSHKA', 1),\n",
       " ('\"DRONUSHKA,', 2),\n",
       " ('\"DRONUSHKA,\"', 1),\n",
       " ('\"DRONUSHKA.\"', 1),\n",
       " ('\"DRUBETSKOY', 1),\n",
       " ('\"DRUBETSKOY.\"', 1),\n",
       " ('\"DRY', 1),\n",
       " ('\"DU', 1),\n",
       " ('\"DUNYASHA', 1),\n",
       " ('\"DUNYASHA!\"', 1),\n",
       " ('\"DUNYASHA,', 2),\n",
       " ('\"DUNYASHA,\"', 1),\n",
       " ('\"DUPORT!', 1),\n",
       " ('\"EARLY', 1),\n",
       " ('\"EAT', 1),\n",
       " ('\"EDUCATE', 1),\n",
       " ('\"EDUCATION', 1),\n",
       " ('\"EH,', 14),\n",
       " ('\"EH?', 6),\n",
       " ('\"EH?\"', 2),\n",
       " ('\"EITHER', 3),\n",
       " ('\"ELSE', 1),\n",
       " ('\"ENCHANTRESS,\"', 1),\n",
       " ('\"ENCOURAGING', 1),\n",
       " ('\"ENGLAND', 1),\n",
       " ('\"ENOUGH!', 1),\n",
       " ('\"ENOUGH,', 1),\n",
       " ('\"ENTREZ,', 1),\n",
       " ('\"ERZA,', 1),\n",
       " ('\"ESPECIALLY', 1),\n",
       " ('\"EUROPE', 1),\n",
       " ('\"EVEN', 6),\n",
       " ('\"EVERY', 2),\n",
       " ('\"EVERYBODY', 3),\n",
       " ('\"EVERYONE', 2),\n",
       " ('\"EVERYTHING', 5),\n",
       " ('\"EVERYTHING\\'S', 2),\n",
       " ('\"EXACTLY,', 1),\n",
       " ('\"EXCUSE', 5),\n",
       " ('\"EXTEND', 1),\n",
       " ('\"EYES', 2),\n",
       " ('\"FANCY', 1),\n",
       " ('\"FANCY,', 1),\n",
       " ('\"FASTER!\"', 1),\n",
       " ('\"FATE\"', 1),\n",
       " ('\"FATHER', 2),\n",
       " ('\"FATHER!', 3),\n",
       " ('\"FATHER,', 2),\n",
       " ('\"FATHER,\"', 1),\n",
       " ('\"FATHER.\"', 1),\n",
       " ('\"FELL', 1),\n",
       " ('\"FETCH', 2),\n",
       " ('\"FILEZ,', 1),\n",
       " ('\"FINALLY', 1),\n",
       " ('\"FINE', 5),\n",
       " ('\"FINE!', 2),\n",
       " ('\"FINE,', 1),\n",
       " ('\"FINISHED,', 1),\n",
       " ('\"FIRE!\"', 2),\n",
       " ('\"FIRE,', 1),\n",
       " ('\"FIRST', 2),\n",
       " ('\"FIRST,', 2),\n",
       " ('\"FIRST-RATE,\"', 1),\n",
       " ('\"FLESH,', 1),\n",
       " ('\"FO\\'WARD,', 1),\n",
       " ('\"FOLLOW', 1),\n",
       " ('\"FOLLY...', 1),\n",
       " ('\"FOO!', 1),\n",
       " ('\"FOOD', 1),\n",
       " ('\"FOOL!', 1),\n",
       " ('\"FOOL,', 1),\n",
       " ('\"FOOL,\"', 1),\n",
       " ('\"FOOL...', 1),\n",
       " ('\"FOR', 28),\n",
       " ('\"FORAGE', 1),\n",
       " ('\"FOREVER?\"', 2),\n",
       " ('\"FORFEIT,', 2),\n",
       " ('\"FORGIVE', 7),\n",
       " ('\"FORGIVE...!\"', 1),\n",
       " ('\"FORM', 1),\n",
       " ('\"FORTY', 2),\n",
       " ('\"FORWARD', 1),\n",
       " ('\"FORWARD!\"', 1),\n",
       " ('\"FORWARD,', 3),\n",
       " ('\"FOUR', 1),\n",
       " ('\"FOURTHLY', 1),\n",
       " ('\"FR...', 1),\n",
       " ('\"FRANZ,', 1),\n",
       " ('\"FRENCH', 1),\n",
       " ('\"FRIEND\"', 1),\n",
       " ('\"FRIENDLY', 1),\n",
       " ('\"FRIENDSHIP', 1),\n",
       " ('\"FROM', 14),\n",
       " ('\"GABIONS', 1),\n",
       " ('\"GALLANT\"', 1),\n",
       " ('\"GALLOP', 1),\n",
       " ('\"GAVE', 1),\n",
       " ('\"GEE', 1),\n",
       " ('\"GENERAL', 2),\n",
       " ('\"GENERAL\"', 1),\n",
       " ('\"GENERAL,', 1),\n",
       " ('\"GENTLEMEN', 1),\n",
       " ('\"GENTLEMEN!\"', 1),\n",
       " ('\"GENTLEMEN,', 6),\n",
       " ('\"GENTLEMEN,\"', 2),\n",
       " ('\"GENTLY,', 1),\n",
       " ('\"GET', 13),\n",
       " ('\"GIVE', 15),\n",
       " ('\"GLAD', 2),\n",
       " ('\"GO', 30),\n",
       " ('\"GO!', 1),\n",
       " ('\"GO!\"', 3),\n",
       " ('\"GO,', 13),\n",
       " ('\"GO,\"', 1),\n",
       " ('\"GO...', 1),\n",
       " ('\"GOD', 16),\n",
       " ('\"GOD\"', 1),\n",
       " ('\"GOD\\'S', 3),\n",
       " ('\"GOD,', 1),\n",
       " ('\"GOING', 3),\n",
       " ('\"GOING?\"', 1),\n",
       " ('\"GOLDEN', 1),\n",
       " ('\"GONE', 3),\n",
       " ('\"GONE?', 1),\n",
       " ('\"GOOD', 19),\n",
       " ('\"GOOD!\"', 2),\n",
       " ('\"GOOD,', 1),\n",
       " ('\"GOOD-BYE!\"', 2),\n",
       " ('\"GOOD-BYE,', 10),\n",
       " ('\"GOOD-BYE.\"', 1),\n",
       " ('\"GOODNESS', 1),\n",
       " ('\"GOT', 2),\n",
       " ('\"GOTT,', 1),\n",
       " ('\"GRACIOUS', 1),\n",
       " ('\"GRAND\"', 1),\n",
       " ('\"GRANDDAD\"', 4),\n",
       " ('\"GRANDDAD.\"', 2),\n",
       " ('\"GRANNY,\"', 1),\n",
       " ('\"GRAPESHOT!\"', 1),\n",
       " ('\"GREAT', 2),\n",
       " ('\"GREAT\"', 2),\n",
       " ('\"GREATNESS,\"', 1),\n",
       " ('\"GREATNESS.\"', 1),\n",
       " ('\"GROUNDS', 1),\n",
       " ('\"GUERRILLA', 1),\n",
       " ('\"H-O-O-W', 1),\n",
       " ('\"HA', 1),\n",
       " ('\"HA,', 3),\n",
       " ('\"HA-HA-HA!\"', 1),\n",
       " ('\"HAD', 3),\n",
       " ('\"HADN\\'T', 1),\n",
       " ('\"HALF', 1),\n",
       " ('\"HALLO,', 2),\n",
       " ('\"HALT!', 1),\n",
       " ('\"HAND', 1),\n",
       " ('\"HANDSOME,', 1),\n",
       " ('\"HANG', 1),\n",
       " ('\"HARD', 2),\n",
       " ('\"HARDLY,\"', 1),\n",
       " ('\"HARK', 2),\n",
       " ('\"HAS', 16),\n",
       " ('\"HASN\\'T', 2),\n",
       " ('\"HAST', 1),\n",
       " ('\"HAVE', 29),\n",
       " ('\"HAVEN\\'T', 3),\n",
       " ('\"HAVING', 1),\n",
       " ('\"HE', 135),\n",
       " ('\"HE!', 1),\n",
       " ('\"HE\\'LL', 4),\n",
       " ('\"HE\\'S', 26),\n",
       " ('\"HE?', 2),\n",
       " ('\"HEAH!', 1),\n",
       " ('\"HEALTH', 2),\n",
       " ('\"HEALTH,', 1),\n",
       " ('\"HEAR', 1),\n",
       " ('\"HEAVEN', 3),\n",
       " ('\"HEAVENS!', 2),\n",
       " ('\"HELENE!\"', 1),\n",
       " ('\"HELENE,', 2),\n",
       " ('\"HELL', 1),\n",
       " ('\"HELP', 2),\n",
       " ('\"HER', 3),\n",
       " ('\"HERE', 19),\n",
       " ('\"HERE!\"', 1),\n",
       " ('\"HERE\\'S', 4),\n",
       " ('\"HERE,', 7),\n",
       " ('\"HERE.', 1),\n",
       " ('\"HEROES\")', 1),\n",
       " ('\"HEROES.\"', 1),\n",
       " ('\"HERSELF,\"', 1),\n",
       " ('\"HEY,', 3),\n",
       " ('\"HI', 1),\n",
       " ('\"HIDING?\"', 1),\n",
       " ('\"HIGH', 1),\n",
       " ('\"HIGH-SOUNDING', 1),\n",
       " ('\"HIGHLY', 1),\n",
       " ('\"HIM...', 1),\n",
       " ('\"HIS', 9),\n",
       " ('\"HIT', 1),\n",
       " ('\"HM!', 1),\n",
       " ('\"HM!--HIS', 1),\n",
       " ('\"HM...', 2),\n",
       " ('\"HM...\"', 1),\n",
       " ('\"HM....', 1),\n",
       " ('\"HO!', 1),\n",
       " ('\"HO,', 1),\n",
       " ('\"HOCH', 1),\n",
       " ('\"HOLD', 1),\n",
       " ('\"HOME!\"', 1),\n",
       " ('\"HOME,', 1),\n",
       " ('\"HOME?', 1),\n",
       " ('\"HONESTLY,', 1),\n",
       " ('\"HOUSE', 1),\n",
       " ('\"HOUSES', 1),\n",
       " ('\"HOW', 131),\n",
       " ('\"HOW!', 1),\n",
       " ('\"HOW\\'S', 4),\n",
       " ('\"HOW...', 1),\n",
       " ('\"HOW...\"', 1),\n",
       " ('\"HOW?', 2),\n",
       " ('\"HOW?\"', 1),\n",
       " ('\"HOWEVER,', 7),\n",
       " ('\"HULLO', 1),\n",
       " ('\"HUMBUG!', 1),\n",
       " ('\"HUNGARIAN\"...', 1),\n",
       " ('\"HUR-A-A-A-AH!\"', 1),\n",
       " ('\"HUR-R-RAH!\"', 1),\n",
       " ('\"HURRAH', 1),\n",
       " ('\"HURRAH!', 6),\n",
       " ('\"HURRAH!\"', 25),\n",
       " ('\"HURRAH!\"...', 1),\n",
       " ('\"HURRAH!...', 1),\n",
       " ('\"HURRAH--AH!--AH!\"', 1),\n",
       " ('\"HURRAH-AH-AH!\"', 1),\n",
       " ('\"HURRY', 2),\n",
       " ('\"HUSH!\"', 1),\n",
       " ('\"I', 755),\n",
       " ('\"I\\'D', 7),\n",
       " ('\"I\\'LL', 37),\n",
       " ('\"I\\'M', 18),\n",
       " ('\"I\\'VE', 11),\n",
       " ('\"I,', 2),\n",
       " ('\"I...', 5),\n",
       " ('\"I...\"', 2),\n",
       " ('\"I?', 9),\n",
       " ('\"I?\"', 1),\n",
       " ('\"I?...', 1),\n",
       " ('\"ICE', 1),\n",
       " ('\"IDIOT!\"', 1),\n",
       " ('\"IF', 122),\n",
       " ('\"IF,', 1),\n",
       " ('\"IGNORANT', 1),\n",
       " ('\"IL', 2),\n",
       " ('\"ILLNESS', 1),\n",
       " ('\"ILYIN?', 1),\n",
       " ('\"IMMEDIATELY,', 2),\n",
       " ('\"IMPOSSIBLE!\"', 2),\n",
       " ('\"IMPUDENCE!', 1),\n",
       " ('\"IMPUDENT', 1),\n",
       " ('\"IN', 33),\n",
       " ('\"INDEED,', 1),\n",
       " ('\"INDEED?', 1),\n",
       " ('\"INFORM', 3),\n",
       " ('\"INTENDED.\"', 1),\n",
       " ('\"INTERESTING.\"', 1),\n",
       " ('\"INTO', 4),\n",
       " ('\"IS', 65),\n",
       " ('\"ISN\\'T', 8),\n",
       " ('\"IT', 132),\n",
       " ('\"IT\\'LL', 1),\n",
       " ('\"IT\\'S', 108),\n",
       " ('\"J\\'AI', 1),\n",
       " ('\"JACKDAW,\"', 1),\n",
       " ('\"JACOB,', 1),\n",
       " ('\"JANUARY,', 1),\n",
       " ('\"JE', 3),\n",
       " ('\"JEALO...\"', 1),\n",
       " ('\"JULY,', 1),\n",
       " ('\"JUNE,\"', 1),\n",
       " ('\"JUST', 22),\n",
       " ('\"JUSTICE.\"', 1),\n",
       " ('\"KARABAKH\"', 1),\n",
       " ('\"KARATAEV!\"', 1),\n",
       " ('\"KARAY,', 2),\n",
       " ('\"KARAY?', 1),\n",
       " ('\"KARI,', 1),\n",
       " ('\"KAYSAROV!\"', 1),\n",
       " ('\"KE-E-E-E,\"', 1),\n",
       " ('\"KE...\"', 1),\n",
       " ('\"KEEP', 2),\n",
       " ('\"KHVOSTIKOV', 1),\n",
       " ('\"KILL', 1),\n",
       " ('\"KILLED!\"', 1),\n",
       " ('\"KILLED,\"', 1),\n",
       " ('\"KILLED?\"', 1),\n",
       " ('\"KIND...LY', 1),\n",
       " ('\"KINDLY', 4),\n",
       " ('\"KING', 1),\n",
       " ('\"KING\"', 1),\n",
       " ('\"KINGS\"', 1),\n",
       " ('\"KISS', 2),\n",
       " ('\"KLYUCHAREV', 1),\n",
       " ('\"KNOCKED', 2),\n",
       " ('\"KNOW', 3),\n",
       " ('\"KURAGIN', 1),\n",
       " ('\"KURAGIN!', 1),\n",
       " ('\"KURAGIN,', 1),\n",
       " ('\"KUZMICH...', 1),\n",
       " ('\"L\\'UROPE', 1),\n",
       " ('\"L\\'UROPE\"', 1),\n",
       " ('\"LA', 2),\n",
       " ('\"LADS!', 1),\n",
       " ('\"LADS!\"', 2),\n",
       " ('\"LADS,', 1),\n",
       " ('\"LADYKINS\"', 1),\n",
       " ('\"LANCERS', 1),\n",
       " ('\"LANCIERS', 1),\n",
       " ('\"LANDLORD\\'S', 1),\n",
       " ('\"LATE!', 1),\n",
       " ('\"LATER...', 1),\n",
       " ('\"LAUGHING', 1),\n",
       " ('\"LAVATER', 1),\n",
       " ('\"LAVWUSKA!\"', 1),\n",
       " ('\"LAY', 1),\n",
       " ('\"LAZAREV!\"', 1),\n",
       " ('\"LE', 5),\n",
       " ('\"LE-TRIP-TA-LA-DE-BU-DE-BA,', 1),\n",
       " ('\"LEAD', 1),\n",
       " ('\"LEAVE', 9),\n",
       " ('\"LEFT...', 3),\n",
       " ('\"LES', 1),\n",
       " ('\"LET', 38),\n",
       " ('\"LET\\'S', 2),\n",
       " ('\"LIAR,', 1),\n",
       " ('\"LIBERTY', 1),\n",
       " ('\"LIE', 3),\n",
       " ('\"LIEUTENANT', 1),\n",
       " ('\"LIEUTENANT,', 1),\n",
       " ('\"LIFE', 2),\n",
       " ('\"LIFT', 2),\n",
       " ('\"LIKE', 3),\n",
       " ('\"LIKED', 1),\n",
       " ('\"LISE!\"', 2),\n",
       " ('\"LISE,', 1),\n",
       " ('\"LISTEN', 3),\n",
       " ('\"LISTEN!', 1),\n",
       " ('\"LISTEN!\"', 2),\n",
       " ('\"LISTEN,', 2),\n",
       " ('\"LITTLE', 4),\n",
       " ('\"LONG', 3),\n",
       " ('\"LONG-COAT\"', 2),\n",
       " ('\"LOOK', 15),\n",
       " ('\"LOOK!', 3),\n",
       " ('\"LOOK,', 8),\n",
       " ('\"LOOKING', 1),\n",
       " ('\"LOOKS', 1),\n",
       " ('\"LOOT', 1),\n",
       " ('\"LOOTING', 1),\n",
       " ('\"LORD', 9),\n",
       " ('\"LORD,', 1),\n",
       " ('\"LOUIS', 2),\n",
       " ('\"LOUISA', 1),\n",
       " ('\"LOVE', 4),\n",
       " ('\"LOVE...', 1),\n",
       " ('\"LOVE?', 1),\n",
       " ('\"LOVELY,', 1),\n",
       " ('\"LOWER', 1),\n",
       " ('\"LOWER,', 1),\n",
       " ('\"LUCKY', 1),\n",
       " ('\"MA', 6),\n",
       " ('\"MA-DA-GAS-CAR,\"', 1),\n",
       " ('\"MADAM,', 1),\n",
       " ('\"MADAME', 1),\n",
       " ('\"MADAME,', 1),\n",
       " ('\"MADE', 1),\n",
       " ('\"MADE,', 1),\n",
       " ('\"MAIS', 2),\n",
       " ('\"MAIS,', 2),\n",
       " ('\"MAJOR', 1),\n",
       " ('\"MAKAR', 1),\n",
       " ('\"MAKARKA\"', 1),\n",
       " ('\"MAKE', 2),\n",
       " ('\"MALBROOK', 1),\n",
       " ('\"MALGRE', 1),\n",
       " ('\"MAMMA', 3),\n",
       " ('\"MAMMA!', 5),\n",
       " ('\"MAMMA!\"', 2),\n",
       " ('\"MAMMA!...', 1),\n",
       " ('\"MAMMA\\'S\"', 1),\n",
       " ('\"MAMMA,', 13),\n",
       " ('\"MAMMA,\"', 2),\n",
       " ('\"MAN', 4),\n",
       " ('\"MARIE\"', 1),\n",
       " ('\"MARLBOROUGH', 1),\n",
       " ('\"MARRIAGES', 1),\n",
       " ('\"MARRY', 1),\n",
       " ('\"MARRY,', 1),\n",
       " ('\"MARSHAL\\'S', 1),\n",
       " ('\"MARY', 3),\n",
       " ('\"MARY\\'S', 1),\n",
       " ('\"MARY,', 6),\n",
       " ('\"MARY,\"', 4),\n",
       " ('\"MARYA', 4),\n",
       " ('\"MASHKA\\'S', 2),\n",
       " ('\"MASTER,', 2),\n",
       " ('\"MATHEMATICS', 1),\n",
       " ('\"MATVEVNA\"', 1),\n",
       " ('\"MATVEVNA\\'S\"', 1),\n",
       " ('\"MATVEVNA,\"', 1),\n",
       " ('\"MAVRA,', 1),\n",
       " ('\"MAY', 12),\n",
       " ('\"MAYBE', 1),\n",
       " ('\"ME', 1),\n",
       " ('\"MEMENTO', 1),\n",
       " ('\"MERCI,', 2),\n",
       " ('\"MERCY', 1),\n",
       " ('\"METALLIC', 1),\n",
       " ('\"MICHAEL', 2),\n",
       " ('\"MILASHKA,', 1),\n",
       " ('\"MIND', 2),\n",
       " ('\"MIND,', 5),\n",
       " ('\"MINE,', 1),\n",
       " ('\"MISSED!\"', 1),\n",
       " ('\"MMM...AR...ATE...ATE...\"', 1),\n",
       " ('\"MON', 8),\n",
       " ('\"MONSEIGNEUR!\"', 1),\n",
       " ('\"MONSIEUR', 2),\n",
       " ('\"MONSTER!', 1),\n",
       " ('\"MORE,', 2),\n",
       " ('\"MORE-ORDERERS\"', 1),\n",
       " ('\"MORNING', 1),\n",
       " ('\"MOSCOW', 3),\n",
       " ('\"MOSCOW,', 2),\n",
       " ('\"MOST', 1),\n",
       " ('\"MOT', 2),\n",
       " ('\"MOTHER', 1),\n",
       " ('\"MOTHER!', 1),\n",
       " ('\"MOUNT!\"', 1),\n",
       " ('\"MOUNT\"', 1),\n",
       " ('\"MOVE', 1),\n",
       " ('\"MR.', 5),\n",
       " ('\"MUCH', 1),\n",
       " ('\"MUMMY!...', 1),\n",
       " ('\"MURDERER!\"', 1),\n",
       " ('\"MUST', 4),\n",
       " ('\"MY', 84),\n",
       " ('\"NAPOLEON', 1),\n",
       " ('\"NASTASYA', 1),\n",
       " ('\"NATALIE!\"', 1),\n",
       " ('\"NATALIE,', 1),\n",
       " ('\"NATALIE?\"', 2),\n",
       " ('\"NATALY,\"', 1),\n",
       " ('\"NATALYA', 2),\n",
       " ('\"NATASHA', 5),\n",
       " ('\"NATASHA!', 2),\n",
       " ('\"NATASHA!\"', 4),\n",
       " ('\"NATASHA,', 16),\n",
       " ('\"NATASHA,\"', 2),\n",
       " ('\"NATASHA?\"', 1),\n",
       " ('\"NEED', 1),\n",
       " ('\"NESVITSKI,', 1),\n",
       " ('\"NEVER', 5),\n",
       " ('\"NEVER,', 1),\n",
       " ('\"NICE!', 1),\n",
       " ('\"NICHOLAS', 4),\n",
       " ('\"NICHOLAS!', 2),\n",
       " ('\"NICHOLAS!\"', 1),\n",
       " ('\"NICHOLAS,', 9),\n",
       " ('\"NICHOLAS.\"', 1),\n",
       " ('\"NIKOLENKA,', 1),\n",
       " ('\"NIKOLENKA...', 2),\n",
       " ('\"NO', 16),\n",
       " ('\"NO!', 6),\n",
       " ('\"NO!\"', 1),\n",
       " ('\"NO,', 172),\n",
       " ('\"NO,\"', 8),\n",
       " ('\"NO--PROMISE', 1),\n",
       " ('\"NO-O-O!\"', 1),\n",
       " ('\"NO.', 4),\n",
       " ('\"NO.\"', 3),\n",
       " ('\"NO...', 2),\n",
       " ('\"NO;', 1),\n",
       " ('\"NO?', 1),\n",
       " ('\"NOBODY', 1),\n",
       " ('\"NON,', 2),\n",
       " ('\"NONE', 1),\n",
       " ('\"NONSENSE!\"', 1),\n",
       " ('\"NONSENSE,', 3),\n",
       " ('\"NOR', 1),\n",
       " ('\"NOT', 40),\n",
       " ('\"NOTHING', 8),\n",
       " ('\"NOTHING!', 2),\n",
       " ('\"NOTHING\\'S', 1),\n",
       " ('\"NOTHING,', 3),\n",
       " ('\"NOTHING,\"', 3),\n",
       " ('\"NOTHING.', 1),\n",
       " ('\"NOTHING...', 3),\n",
       " ('\"NOW', 63),\n",
       " ('\"NOW,', 21),\n",
       " ('\"NOW?\"', 1),\n",
       " ('\"NOWADAYS', 3),\n",
       " ('\"NUMBER', 1),\n",
       " ('\"O', 18),\n",
       " ('\"O,', 2),\n",
       " ('\"O-HOY!\"', 1),\n",
       " ('\"O-NE!', 1),\n",
       " ('\"OF', 21),\n",
       " ('\"OFF,', 1),\n",
       " ('\"OH', 39),\n",
       " ('\"OH!', 8),\n",
       " ('\"OH!\"', 2),\n",
       " ('\"OH,', 174),\n",
       " ('\"OH--WHY,', 1),\n",
       " ('\"OH-H-H!', 1),\n",
       " ('\"OH?\"', 1),\n",
       " ('\"OLD', 2),\n",
       " ('\"ON', 27),\n",
       " ('\"ONCE', 2),\n",
       " ('\"ONE', 35),\n",
       " ('\"ONE!\"', 1),\n",
       " ('\"ONE,', 1),\n",
       " ('\"ONLY', 23),\n",
       " ('\"ONLY,', 4),\n",
       " ('\"ONTERKOFF,\"', 1),\n",
       " ('\"ONTO', 1),\n",
       " ('\"OO-OO,', 1),\n",
       " ('\"OO-OO-OO-OO!', 1),\n",
       " ('\"OOH!\"', 1),\n",
       " ('\"OOH,', 1),\n",
       " ('\"OOOH!', 1),\n",
       " ('\"OPINIONS', 1),\n",
       " ('\"OR', 9),\n",
       " ('\"ORDER', 1),\n",
       " ('\"ORDERS?\"', 1),\n",
       " ('\"OTHER', 1),\n",
       " ('\"OU-ROU-ROU!\"', 1),\n",
       " ('\"OUI,', 1),\n",
       " ('\"OUR', 12),\n",
       " ('\"OURS', 2),\n",
       " ('\"OURS\"', 1),\n",
       " ('\"OURS,\"', 1),\n",
       " ('\"OVERFLOWING', 1),\n",
       " ('\"OVERRESIST\"', 1),\n",
       " ('\"OWING', 1),\n",
       " ('\"OZHEG-ZHEG,', 1),\n",
       " ('\"OZHEG-ZHEG-ZHEG...\"', 1),\n",
       " ('\"PAPA', 1),\n",
       " ('\"PAPA!', 4),\n",
       " ('\"PAPA,', 5),\n",
       " ('\"PAPA,\"', 1),\n",
       " ('\"PARDON', 1),\n",
       " ('\"PARIS--THE', 1),\n",
       " ('\"PARIS?...', 1),\n",
       " ('\"PASS', 2),\n",
       " ('\"PASSWORD.\"', 1),\n",
       " ('\"PATIENCE', 1),\n",
       " ('\"PE...', 1),\n",
       " ('\"PEACE', 1),\n",
       " ('\"PEAR\"', 1),\n",
       " ('\"PEOPLE', 4),\n",
       " ('\"PERCHED', 1),\n",
       " ('\"PERHAPS', 12),\n",
       " ('\"PERHAPS,\"', 1),\n",
       " ('\"PERMIT', 2),\n",
       " ('\"PETER', 5),\n",
       " ('\"PETRUSHA', 1),\n",
       " ('\"PETYA!', 2),\n",
       " ('\"PETYA,', 1),\n",
       " ('\"PHILOSOPHICAL\"', 1),\n",
       " ('\"PICK', 1),\n",
       " ('\"PIERRE', 2),\n",
       " ('\"PIERRE!', 1),\n",
       " ('\"PIERRE!\"', 1),\n",
       " ('\"PIERRE,', 1),\n",
       " ('\"PITI-PITI-', 1),\n",
       " ('\"PITI-PITI-PITI', 1),\n",
       " ('\"PITI-PITI-PITI,\"', 1),\n",
       " ('\"PLANS!\"', 1),\n",
       " ('\"PLATOCHE!', 1),\n",
       " ('\"PLATON', 1),\n",
       " ('\"PLATONIC', 1),\n",
       " ('\"PLATOSHA,\"', 1),\n",
       " ('\"PLEA...\"', 1),\n",
       " ('\"PLEASE', 15),\n",
       " ('\"PLEASE,', 5),\n",
       " ('\"PLEASE,\"', 1),\n",
       " ('\"PLENARY\"', 1),\n",
       " ('\"PLENTY', 2),\n",
       " ('\"POLICE!', 1),\n",
       " ('\"POOR', 2),\n",
       " ('\"POSITION\"', 1),\n",
       " ('\"POSSIBLY,\"', 1),\n",
       " ('\"POSTERITY', 1),\n",
       " ('\"POSTULANT,\"', 1),\n",
       " ('\"POWER\"', 2),\n",
       " ('\"POWER.\"', 1),\n",
       " ('\"PRAY', 1),\n",
       " ('\"PREPARING', 1),\n",
       " ('\"PRETTY,', 1),\n",
       " ('\"PRINCE', 14),\n",
       " ('\"PRINCE,', 3),\n",
       " ('\"PRINCE,\"', 1),\n",
       " ('\"PRINCESS', 2),\n",
       " ('\"PRINCESS!\"', 1),\n",
       " ('\"PRINCESS,', 7),\n",
       " ('\"PRINCESSE,', 2),\n",
       " ('\"PRISONERS,', 1),\n",
       " ('\"PROBABLY,\"', 1),\n",
       " ('\"PROGRESS\"', 1),\n",
       " ('\"PRUSSIAN', 1),\n",
       " ('\"PUFF!', 1),\n",
       " ('\"PUFF!\"--SUDDENLY', 1),\n",
       " ('\"PUPIL\")', 1),\n",
       " ('\"PURE', 1),\n",
       " ('\"PUT', 4),\n",
       " ('\"QU\\'', 1),\n",
       " ('\"QU\\'ON', 1),\n",
       " ('\"QUAND', 2),\n",
       " ('\"QUARTERS,', 1),\n",
       " ('\"QUARTIER,', 1),\n",
       " ('\"QUI', 3),\n",
       " ('\"QUITE', 6),\n",
       " ('\"RAISING', 1),\n",
       " ('\"READ', 1),\n",
       " ('\"READY,', 2),\n",
       " ('\"REAL', 1),\n",
       " ('\"REALLY', 2),\n",
       " ('\"REALLY!\"', 1),\n",
       " ('\"REALLY,', 5),\n",
       " ('\"REALLY?', 1),\n",
       " ('\"REALLY?\"', 4),\n",
       " ('\"RECEPTION', 1),\n",
       " ('\"REFILL', 1),\n",
       " ('\"REINFORCEMENTS!\"', 1),\n",
       " ('\"REINFORCEMENTS?\"', 1),\n",
       " ('\"REMARKS\"', 1),\n",
       " ('\"REMEMBER', 4),\n",
       " ('\"REMEMBER,', 1),\n",
       " ('\"RENTREZ', 1),\n",
       " ('\"REPORT', 1),\n",
       " ('\"RETIRE!', 1),\n",
       " ('\"RHINE', 1),\n",
       " ('\"RIDE', 2),\n",
       " ('\"RIDES', 1),\n",
       " ('\"RIGHT', 1),\n",
       " ('\"ROBBER!...', 1),\n",
       " ('\"ROBBERY', 1),\n",
       " ('\"ROSTOV!', 1),\n",
       " ('\"ROSTOV!\"', 1),\n",
       " ('\"ROSTOV,', 1),\n",
       " ('\"ROUSSEAU\\'S', 1),\n",
       " ('\"ROUTED', 1),\n",
       " ('\"ROUTED\"', 1),\n",
       " ('\"ROYALTY', 1),\n",
       " ('\"RRRR!\"', 1),\n",
       " ('\"RUBBISH,', 1),\n",
       " ('\"RUGAY,', 3),\n",
       " ('\"RUGAYUSHKA!\"', 1),\n",
       " ('\"RUN', 1),\n",
       " ('\"RUSSIA', 4),\n",
       " ('\"RUSSIA\\'S', 1),\n",
       " ('\"RUSSIAN', 1),\n",
       " ('\"RUSTIC', 1),\n",
       " ('\"SABER', 1),\n",
       " ('\"SADDLE!', 1),\n",
       " ('\"SATISFACTORY,', 1),\n",
       " ('\"SAVE', 1),\n",
       " ('\"SAY', 5),\n",
       " ('\"SCHON', 2),\n",
       " ('\"SCHUBERT,', 1),\n",
       " ('\"SCOUNDREL,', 1),\n",
       " ('\"SCOUNDRELS!', 1),\n",
       " ...]"
      ]
     },
     "execution_count": 106,
     "metadata": {},
     "output_type": "execute_result"
    }
   ],
   "source": [
    "# Stage 2 Processing\n",
    "wordcounts = paired.reduceByKey(lambda a, b : a + b)\n",
    "processed_data = wordcounts.collect()\n",
    "processed_data = list(processed_data[:])\n"
   ]
  },
  {
   "cell_type": "code",
   "execution_count": 87,
   "metadata": {},
   "outputs": [],
   "source": [
    "# Release the SparkContext\n",
    "sc.stop()"
   ]
  },
  {
   "cell_type": "code",
   "execution_count": 107,
   "metadata": {},
   "outputs": [
    {
     "name": "stdout",
     "output_type": "stream",
     "text": [
      "[('THE', 34093), ('AND', 21335), ('TO', 16426), ('OF', 14791), ('A', 10357)]\n"
     ]
    }
   ],
   "source": [
    "# Post processing\n",
    "processed_data.sort(key=lambda pair:pair[1], reverse=True)\n",
    "print(processed_data[:5])"
   ]
  },
  {
   "cell_type": "code",
   "execution_count": 111,
   "metadata": {},
   "outputs": [
    {
     "data": {
      "text/plain": [
       "['THE',\n",
       " 'AND',\n",
       " 'TO',\n",
       " 'OF',\n",
       " 'A',\n",
       " 'HE',\n",
       " 'IN',\n",
       " 'HIS',\n",
       " 'THAT',\n",
       " 'WAS',\n",
       " 'WITH',\n",
       " 'HAD',\n",
       " 'AT',\n",
       " 'NOT',\n",
       " 'HER',\n",
       " 'AS',\n",
       " 'IT',\n",
       " 'ON',\n",
       " 'BUT',\n",
       " 'FOR']"
      ]
     },
     "execution_count": 111,
     "metadata": {},
     "output_type": "execute_result"
    }
   ],
   "source": [
    "top_pairs = processed_data[:20]\n",
    "[k for k,v in top_pairs]"
   ]
  },
  {
   "cell_type": "code",
   "execution_count": 112,
   "metadata": {},
   "outputs": [
    {
     "data": {
      "text/plain": [
       "[34093,\n",
       " 21335,\n",
       " 16426,\n",
       " 14791,\n",
       " 10357,\n",
       " 9294,\n",
       " 8551,\n",
       " 7932,\n",
       " 7402,\n",
       " 7201,\n",
       " 5604,\n",
       " 5334,\n",
       " 4482,\n",
       " 4460,\n",
       " 3963,\n",
       " 3904,\n",
       " 3888,\n",
       " 3656,\n",
       " 3614,\n",
       " 3365]"
      ]
     },
     "execution_count": 112,
     "metadata": {},
     "output_type": "execute_result"
    }
   ],
   "source": [
    "[v for k,v in top_pairs]"
   ]
  },
  {
   "cell_type": "code",
   "execution_count": null,
   "metadata": {},
   "outputs": [],
   "source": [
    "\n",
    "plot.bar([k for k,v in top_pairs], [v for k,v in top_pairs], color='b')"
   ]
  },
  {
   "cell_type": "code",
   "execution_count": 113,
   "metadata": {},
   "outputs": [
    {
     "ename": "ImportError",
     "evalue": "No module named 'pandas'",
     "output_type": "error",
     "traceback": [
      "\u001b[0;31m---------------------------------------------------------------------------\u001b[0m",
      "\u001b[0;31mImportError\u001b[0m                               Traceback (most recent call last)",
      "\u001b[0;32m<ipython-input-113-7dd3504c366f>\u001b[0m in \u001b[0;36m<module>\u001b[0;34m\u001b[0m\n\u001b[0;32m----> 1\u001b[0;31m \u001b[0;32mimport\u001b[0m \u001b[0mpandas\u001b[0m \u001b[0;32mas\u001b[0m \u001b[0mpd\u001b[0m\u001b[0;34m\u001b[0m\u001b[0m\n\u001b[0m",
      "\u001b[0;31mImportError\u001b[0m: No module named 'pandas'"
     ]
    }
   ],
   "source": [
    "import pandas as pd"
   ]
  },
  {
   "cell_type": "code",
   "execution_count": 114,
   "metadata": {},
   "outputs": [
    {
     "ename": "ImportError",
     "evalue": "No module named 'nltk'",
     "output_type": "error",
     "traceback": [
      "\u001b[0;31m---------------------------------------------------------------------------\u001b[0m",
      "\u001b[0;31mImportError\u001b[0m                               Traceback (most recent call last)",
      "\u001b[0;32m<ipython-input-114-1d2184025e54>\u001b[0m in \u001b[0;36m<module>\u001b[0;34m\u001b[0m\n\u001b[0;32m----> 1\u001b[0;31m \u001b[0;32mimport\u001b[0m \u001b[0mnltk\u001b[0m\u001b[0;34m\u001b[0m\u001b[0m\n\u001b[0m",
      "\u001b[0;31mImportError\u001b[0m: No module named 'nltk'"
     ]
    }
   ],
   "source": []
  },
  {
   "cell_type": "code",
   "execution_count": null,
   "metadata": {},
   "outputs": [],
   "source": []
  }
 ],
 "metadata": {
  "kernelspec": {
   "display_name": "Python 3",
   "language": "python",
   "name": "python3"
  },
  "language_info": {
   "codemirror_mode": {
    "name": "ipython",
    "version": 3
   },
   "file_extension": ".py",
   "mimetype": "text/x-python",
   "name": "python",
   "nbconvert_exporter": "python",
   "pygments_lexer": "ipython3",
   "version": "3.5.2"
  }
 },
 "nbformat": 4,
 "nbformat_minor": 2
}
